{
 "cells": [
  {
   "cell_type": "markdown",
   "metadata": {
    "colab_type": "text",
    "id": "view-in-github"
   },
   "source": [
    "<a href=\"https://colab.research.google.com/github/Ahsanbeg/Multiple-Disease-Prediction/blob/main/Parkinson's_Disease_Detection.ipynb\" target=\"_parent\"><img src=\"https://colab.research.google.com/assets/colab-badge.svg\" alt=\"Open In Colab\"/></a>"
   ]
  },
  {
   "cell_type": "markdown",
   "metadata": {
    "id": "9B5Zl1UOBMAJ"
   },
   "source": [
    "Importing the Dependencies"
   ]
  },
  {
   "cell_type": "code",
   "execution_count": 1,
   "metadata": {
    "id": "YOCpZ1Vm6cfW"
   },
   "outputs": [],
   "source": [
    "import numpy as np\n",
    "import pandas as pd\n",
    "import seaborn as sns\n",
    "from sklearn import svm\n",
    "import statsmodels.api as sm\n",
    "import matplotlib.pyplot as plt\n",
    "from sklearn.metrics import accuracy_score\n",
    "from sklearn.preprocessing import StandardScaler\n",
    "from sklearn.model_selection import train_test_split"
   ]
  },
  {
   "cell_type": "markdown",
   "metadata": {
    "id": "PZm-USrtB_q4"
   },
   "source": [
    "Data Collection & Analysis"
   ]
  },
  {
   "cell_type": "code",
   "execution_count": 2,
   "metadata": {
    "id": "5YC2lGuVBiZA"
   },
   "outputs": [],
   "source": [
    "# loading the data from csv file to a Pandas DataFrame\n",
    "parkinsons_data = pd.read_csv(r\"C:\\Users\\sripal\\AICTE Project\\Datasets\\parkinson_data.csv\")"
   ]
  },
  {
   "cell_type": "code",
   "execution_count": 3,
   "metadata": {
    "colab": {
     "base_uri": "https://localhost:8080/",
     "height": 300
    },
    "id": "Iw8z6w60Djd2",
    "outputId": "480ab553-ba53-49f2-ffcd-c4c200869d56"
   },
   "outputs": [
    {
     "data": {
      "text/html": [
       "<div>\n",
       "<style scoped>\n",
       "    .dataframe tbody tr th:only-of-type {\n",
       "        vertical-align: middle;\n",
       "    }\n",
       "\n",
       "    .dataframe tbody tr th {\n",
       "        vertical-align: top;\n",
       "    }\n",
       "\n",
       "    .dataframe thead th {\n",
       "        text-align: right;\n",
       "    }\n",
       "</style>\n",
       "<table border=\"1\" class=\"dataframe\">\n",
       "  <thead>\n",
       "    <tr style=\"text-align: right;\">\n",
       "      <th></th>\n",
       "      <th>name</th>\n",
       "      <th>MDVP:Fo(Hz)</th>\n",
       "      <th>MDVP:Fhi(Hz)</th>\n",
       "      <th>MDVP:Flo(Hz)</th>\n",
       "      <th>MDVP:Jitter(%)</th>\n",
       "      <th>MDVP:Jitter(Abs)</th>\n",
       "      <th>MDVP:RAP</th>\n",
       "      <th>MDVP:PPQ</th>\n",
       "      <th>Jitter:DDP</th>\n",
       "      <th>MDVP:Shimmer</th>\n",
       "      <th>...</th>\n",
       "      <th>Shimmer:DDA</th>\n",
       "      <th>NHR</th>\n",
       "      <th>HNR</th>\n",
       "      <th>status</th>\n",
       "      <th>RPDE</th>\n",
       "      <th>DFA</th>\n",
       "      <th>spread1</th>\n",
       "      <th>spread2</th>\n",
       "      <th>D2</th>\n",
       "      <th>PPE</th>\n",
       "    </tr>\n",
       "  </thead>\n",
       "  <tbody>\n",
       "    <tr>\n",
       "      <th>0</th>\n",
       "      <td>phon_R01_S01_1</td>\n",
       "      <td>119.992</td>\n",
       "      <td>157.302</td>\n",
       "      <td>74.997</td>\n",
       "      <td>0.00784</td>\n",
       "      <td>0.00007</td>\n",
       "      <td>0.00370</td>\n",
       "      <td>0.00554</td>\n",
       "      <td>0.01109</td>\n",
       "      <td>0.04374</td>\n",
       "      <td>...</td>\n",
       "      <td>0.06545</td>\n",
       "      <td>0.02211</td>\n",
       "      <td>21.033</td>\n",
       "      <td>1</td>\n",
       "      <td>0.414783</td>\n",
       "      <td>0.815285</td>\n",
       "      <td>-4.813031</td>\n",
       "      <td>0.266482</td>\n",
       "      <td>2.301442</td>\n",
       "      <td>0.284654</td>\n",
       "    </tr>\n",
       "    <tr>\n",
       "      <th>1</th>\n",
       "      <td>phon_R01_S01_2</td>\n",
       "      <td>122.400</td>\n",
       "      <td>148.650</td>\n",
       "      <td>113.819</td>\n",
       "      <td>0.00968</td>\n",
       "      <td>0.00008</td>\n",
       "      <td>0.00465</td>\n",
       "      <td>0.00696</td>\n",
       "      <td>0.01394</td>\n",
       "      <td>0.06134</td>\n",
       "      <td>...</td>\n",
       "      <td>0.09403</td>\n",
       "      <td>0.01929</td>\n",
       "      <td>19.085</td>\n",
       "      <td>1</td>\n",
       "      <td>0.458359</td>\n",
       "      <td>0.819521</td>\n",
       "      <td>-4.075192</td>\n",
       "      <td>0.335590</td>\n",
       "      <td>2.486855</td>\n",
       "      <td>0.368674</td>\n",
       "    </tr>\n",
       "    <tr>\n",
       "      <th>2</th>\n",
       "      <td>phon_R01_S01_3</td>\n",
       "      <td>116.682</td>\n",
       "      <td>131.111</td>\n",
       "      <td>111.555</td>\n",
       "      <td>0.01050</td>\n",
       "      <td>0.00009</td>\n",
       "      <td>0.00544</td>\n",
       "      <td>0.00781</td>\n",
       "      <td>0.01633</td>\n",
       "      <td>0.05233</td>\n",
       "      <td>...</td>\n",
       "      <td>0.08270</td>\n",
       "      <td>0.01309</td>\n",
       "      <td>20.651</td>\n",
       "      <td>1</td>\n",
       "      <td>0.429895</td>\n",
       "      <td>0.825288</td>\n",
       "      <td>-4.443179</td>\n",
       "      <td>0.311173</td>\n",
       "      <td>2.342259</td>\n",
       "      <td>0.332634</td>\n",
       "    </tr>\n",
       "    <tr>\n",
       "      <th>3</th>\n",
       "      <td>phon_R01_S01_4</td>\n",
       "      <td>116.676</td>\n",
       "      <td>137.871</td>\n",
       "      <td>111.366</td>\n",
       "      <td>0.00997</td>\n",
       "      <td>0.00009</td>\n",
       "      <td>0.00502</td>\n",
       "      <td>0.00698</td>\n",
       "      <td>0.01505</td>\n",
       "      <td>0.05492</td>\n",
       "      <td>...</td>\n",
       "      <td>0.08771</td>\n",
       "      <td>0.01353</td>\n",
       "      <td>20.644</td>\n",
       "      <td>1</td>\n",
       "      <td>0.434969</td>\n",
       "      <td>0.819235</td>\n",
       "      <td>-4.117501</td>\n",
       "      <td>0.334147</td>\n",
       "      <td>2.405554</td>\n",
       "      <td>0.368975</td>\n",
       "    </tr>\n",
       "    <tr>\n",
       "      <th>4</th>\n",
       "      <td>phon_R01_S01_5</td>\n",
       "      <td>116.014</td>\n",
       "      <td>141.781</td>\n",
       "      <td>110.655</td>\n",
       "      <td>0.01284</td>\n",
       "      <td>0.00011</td>\n",
       "      <td>0.00655</td>\n",
       "      <td>0.00908</td>\n",
       "      <td>0.01966</td>\n",
       "      <td>0.06425</td>\n",
       "      <td>...</td>\n",
       "      <td>0.10470</td>\n",
       "      <td>0.01767</td>\n",
       "      <td>19.649</td>\n",
       "      <td>1</td>\n",
       "      <td>0.417356</td>\n",
       "      <td>0.823484</td>\n",
       "      <td>-3.747787</td>\n",
       "      <td>0.234513</td>\n",
       "      <td>2.332180</td>\n",
       "      <td>0.410335</td>\n",
       "    </tr>\n",
       "  </tbody>\n",
       "</table>\n",
       "<p>5 rows × 24 columns</p>\n",
       "</div>"
      ],
      "text/plain": [
       "             name  MDVP:Fo(Hz)  MDVP:Fhi(Hz)  MDVP:Flo(Hz)  MDVP:Jitter(%)  \\\n",
       "0  phon_R01_S01_1      119.992       157.302        74.997         0.00784   \n",
       "1  phon_R01_S01_2      122.400       148.650       113.819         0.00968   \n",
       "2  phon_R01_S01_3      116.682       131.111       111.555         0.01050   \n",
       "3  phon_R01_S01_4      116.676       137.871       111.366         0.00997   \n",
       "4  phon_R01_S01_5      116.014       141.781       110.655         0.01284   \n",
       "\n",
       "   MDVP:Jitter(Abs)  MDVP:RAP  MDVP:PPQ  Jitter:DDP  MDVP:Shimmer  ...  \\\n",
       "0           0.00007   0.00370   0.00554     0.01109       0.04374  ...   \n",
       "1           0.00008   0.00465   0.00696     0.01394       0.06134  ...   \n",
       "2           0.00009   0.00544   0.00781     0.01633       0.05233  ...   \n",
       "3           0.00009   0.00502   0.00698     0.01505       0.05492  ...   \n",
       "4           0.00011   0.00655   0.00908     0.01966       0.06425  ...   \n",
       "\n",
       "   Shimmer:DDA      NHR     HNR  status      RPDE       DFA   spread1  \\\n",
       "0      0.06545  0.02211  21.033       1  0.414783  0.815285 -4.813031   \n",
       "1      0.09403  0.01929  19.085       1  0.458359  0.819521 -4.075192   \n",
       "2      0.08270  0.01309  20.651       1  0.429895  0.825288 -4.443179   \n",
       "3      0.08771  0.01353  20.644       1  0.434969  0.819235 -4.117501   \n",
       "4      0.10470  0.01767  19.649       1  0.417356  0.823484 -3.747787   \n",
       "\n",
       "    spread2        D2       PPE  \n",
       "0  0.266482  2.301442  0.284654  \n",
       "1  0.335590  2.486855  0.368674  \n",
       "2  0.311173  2.342259  0.332634  \n",
       "3  0.334147  2.405554  0.368975  \n",
       "4  0.234513  2.332180  0.410335  \n",
       "\n",
       "[5 rows x 24 columns]"
      ]
     },
     "execution_count": 3,
     "metadata": {},
     "output_type": "execute_result"
    }
   ],
   "source": [
    "# printing the first 5 rows of the dataframe\n",
    "\n",
    "parkinsons_data.head()"
   ]
  },
  {
   "cell_type": "code",
   "execution_count": 4,
   "metadata": {
    "colab": {
     "base_uri": "https://localhost:8080/"
    },
    "id": "cK7L_o2TDuZb",
    "outputId": "744d784a-d0ca-431a-b71a-b4b0dde65cf0"
   },
   "outputs": [
    {
     "data": {
      "text/plain": [
       "(195, 24)"
      ]
     },
     "execution_count": 4,
     "metadata": {},
     "output_type": "execute_result"
    }
   ],
   "source": [
    "# number of rows and columns in the dataframe\n",
    "parkinsons_data.shape"
   ]
  },
  {
   "cell_type": "code",
   "execution_count": 5,
   "metadata": {
    "colab": {
     "base_uri": "https://localhost:8080/"
    },
    "id": "NLmzHIgnEGi4",
    "outputId": "14512ec0-5752-49bf-e27d-50befb492124"
   },
   "outputs": [
    {
     "name": "stdout",
     "output_type": "stream",
     "text": [
      "<class 'pandas.core.frame.DataFrame'>\n",
      "RangeIndex: 195 entries, 0 to 194\n",
      "Data columns (total 24 columns):\n",
      " #   Column            Non-Null Count  Dtype  \n",
      "---  ------            --------------  -----  \n",
      " 0   name              195 non-null    object \n",
      " 1   MDVP:Fo(Hz)       195 non-null    float64\n",
      " 2   MDVP:Fhi(Hz)      195 non-null    float64\n",
      " 3   MDVP:Flo(Hz)      195 non-null    float64\n",
      " 4   MDVP:Jitter(%)    195 non-null    float64\n",
      " 5   MDVP:Jitter(Abs)  195 non-null    float64\n",
      " 6   MDVP:RAP          195 non-null    float64\n",
      " 7   MDVP:PPQ          195 non-null    float64\n",
      " 8   Jitter:DDP        195 non-null    float64\n",
      " 9   MDVP:Shimmer      195 non-null    float64\n",
      " 10  MDVP:Shimmer(dB)  195 non-null    float64\n",
      " 11  Shimmer:APQ3      195 non-null    float64\n",
      " 12  Shimmer:APQ5      195 non-null    float64\n",
      " 13  MDVP:APQ          195 non-null    float64\n",
      " 14  Shimmer:DDA       195 non-null    float64\n",
      " 15  NHR               195 non-null    float64\n",
      " 16  HNR               195 non-null    float64\n",
      " 17  status            195 non-null    int64  \n",
      " 18  RPDE              195 non-null    float64\n",
      " 19  DFA               195 non-null    float64\n",
      " 20  spread1           195 non-null    float64\n",
      " 21  spread2           195 non-null    float64\n",
      " 22  D2                195 non-null    float64\n",
      " 23  PPE               195 non-null    float64\n",
      "dtypes: float64(22), int64(1), object(1)\n",
      "memory usage: 36.7+ KB\n"
     ]
    }
   ],
   "source": [
    "# getting more information about the dataset\n",
    "parkinsons_data.info()"
   ]
  },
  {
   "cell_type": "code",
   "execution_count": 6,
   "metadata": {
    "colab": {
     "base_uri": "https://localhost:8080/"
    },
    "id": "70rgu_k4ET9F",
    "outputId": "99c66e07-6861-409f-b50f-d18264e8cb20"
   },
   "outputs": [
    {
     "data": {
      "text/plain": [
       "name                0\n",
       "MDVP:Fo(Hz)         0\n",
       "MDVP:Fhi(Hz)        0\n",
       "MDVP:Flo(Hz)        0\n",
       "MDVP:Jitter(%)      0\n",
       "MDVP:Jitter(Abs)    0\n",
       "MDVP:RAP            0\n",
       "MDVP:PPQ            0\n",
       "Jitter:DDP          0\n",
       "MDVP:Shimmer        0\n",
       "MDVP:Shimmer(dB)    0\n",
       "Shimmer:APQ3        0\n",
       "Shimmer:APQ5        0\n",
       "MDVP:APQ            0\n",
       "Shimmer:DDA         0\n",
       "NHR                 0\n",
       "HNR                 0\n",
       "status              0\n",
       "RPDE                0\n",
       "DFA                 0\n",
       "spread1             0\n",
       "spread2             0\n",
       "D2                  0\n",
       "PPE                 0\n",
       "dtype: int64"
      ]
     },
     "execution_count": 6,
     "metadata": {},
     "output_type": "execute_result"
    }
   ],
   "source": [
    "# checking for missing values in each column\n",
    "parkinsons_data.isnull().sum()"
   ]
  },
  {
   "cell_type": "code",
   "execution_count": 7,
   "metadata": {
    "colab": {
     "base_uri": "https://localhost:8080/",
     "height": 394
    },
    "id": "1AxFu0-nEhSA",
    "outputId": "b69ebad4-02e0-4f13-efe1-761724365499"
   },
   "outputs": [
    {
     "data": {
      "text/html": [
       "<div>\n",
       "<style scoped>\n",
       "    .dataframe tbody tr th:only-of-type {\n",
       "        vertical-align: middle;\n",
       "    }\n",
       "\n",
       "    .dataframe tbody tr th {\n",
       "        vertical-align: top;\n",
       "    }\n",
       "\n",
       "    .dataframe thead th {\n",
       "        text-align: right;\n",
       "    }\n",
       "</style>\n",
       "<table border=\"1\" class=\"dataframe\">\n",
       "  <thead>\n",
       "    <tr style=\"text-align: right;\">\n",
       "      <th></th>\n",
       "      <th>MDVP:Fo(Hz)</th>\n",
       "      <th>MDVP:Fhi(Hz)</th>\n",
       "      <th>MDVP:Flo(Hz)</th>\n",
       "      <th>MDVP:Jitter(%)</th>\n",
       "      <th>MDVP:Jitter(Abs)</th>\n",
       "      <th>MDVP:RAP</th>\n",
       "      <th>MDVP:PPQ</th>\n",
       "      <th>Jitter:DDP</th>\n",
       "      <th>MDVP:Shimmer</th>\n",
       "      <th>MDVP:Shimmer(dB)</th>\n",
       "      <th>...</th>\n",
       "      <th>Shimmer:DDA</th>\n",
       "      <th>NHR</th>\n",
       "      <th>HNR</th>\n",
       "      <th>status</th>\n",
       "      <th>RPDE</th>\n",
       "      <th>DFA</th>\n",
       "      <th>spread1</th>\n",
       "      <th>spread2</th>\n",
       "      <th>D2</th>\n",
       "      <th>PPE</th>\n",
       "    </tr>\n",
       "  </thead>\n",
       "  <tbody>\n",
       "    <tr>\n",
       "      <th>count</th>\n",
       "      <td>195.000000</td>\n",
       "      <td>195.000000</td>\n",
       "      <td>195.000000</td>\n",
       "      <td>195.000000</td>\n",
       "      <td>195.000000</td>\n",
       "      <td>195.000000</td>\n",
       "      <td>195.000000</td>\n",
       "      <td>195.000000</td>\n",
       "      <td>195.000000</td>\n",
       "      <td>195.000000</td>\n",
       "      <td>...</td>\n",
       "      <td>195.000000</td>\n",
       "      <td>195.000000</td>\n",
       "      <td>195.000000</td>\n",
       "      <td>195.000000</td>\n",
       "      <td>195.000000</td>\n",
       "      <td>195.000000</td>\n",
       "      <td>195.000000</td>\n",
       "      <td>195.000000</td>\n",
       "      <td>195.000000</td>\n",
       "      <td>195.000000</td>\n",
       "    </tr>\n",
       "    <tr>\n",
       "      <th>mean</th>\n",
       "      <td>154.228641</td>\n",
       "      <td>197.104918</td>\n",
       "      <td>116.324631</td>\n",
       "      <td>0.006220</td>\n",
       "      <td>0.000044</td>\n",
       "      <td>0.003306</td>\n",
       "      <td>0.003446</td>\n",
       "      <td>0.009920</td>\n",
       "      <td>0.029709</td>\n",
       "      <td>0.282251</td>\n",
       "      <td>...</td>\n",
       "      <td>0.046993</td>\n",
       "      <td>0.024847</td>\n",
       "      <td>21.885974</td>\n",
       "      <td>0.753846</td>\n",
       "      <td>0.498536</td>\n",
       "      <td>0.718099</td>\n",
       "      <td>-5.684397</td>\n",
       "      <td>0.226510</td>\n",
       "      <td>2.381826</td>\n",
       "      <td>0.206552</td>\n",
       "    </tr>\n",
       "    <tr>\n",
       "      <th>std</th>\n",
       "      <td>41.390065</td>\n",
       "      <td>91.491548</td>\n",
       "      <td>43.521413</td>\n",
       "      <td>0.004848</td>\n",
       "      <td>0.000035</td>\n",
       "      <td>0.002968</td>\n",
       "      <td>0.002759</td>\n",
       "      <td>0.008903</td>\n",
       "      <td>0.018857</td>\n",
       "      <td>0.194877</td>\n",
       "      <td>...</td>\n",
       "      <td>0.030459</td>\n",
       "      <td>0.040418</td>\n",
       "      <td>4.425764</td>\n",
       "      <td>0.431878</td>\n",
       "      <td>0.103942</td>\n",
       "      <td>0.055336</td>\n",
       "      <td>1.090208</td>\n",
       "      <td>0.083406</td>\n",
       "      <td>0.382799</td>\n",
       "      <td>0.090119</td>\n",
       "    </tr>\n",
       "    <tr>\n",
       "      <th>min</th>\n",
       "      <td>88.333000</td>\n",
       "      <td>102.145000</td>\n",
       "      <td>65.476000</td>\n",
       "      <td>0.001680</td>\n",
       "      <td>0.000007</td>\n",
       "      <td>0.000680</td>\n",
       "      <td>0.000920</td>\n",
       "      <td>0.002040</td>\n",
       "      <td>0.009540</td>\n",
       "      <td>0.085000</td>\n",
       "      <td>...</td>\n",
       "      <td>0.013640</td>\n",
       "      <td>0.000650</td>\n",
       "      <td>8.441000</td>\n",
       "      <td>0.000000</td>\n",
       "      <td>0.256570</td>\n",
       "      <td>0.574282</td>\n",
       "      <td>-7.964984</td>\n",
       "      <td>0.006274</td>\n",
       "      <td>1.423287</td>\n",
       "      <td>0.044539</td>\n",
       "    </tr>\n",
       "    <tr>\n",
       "      <th>25%</th>\n",
       "      <td>117.572000</td>\n",
       "      <td>134.862500</td>\n",
       "      <td>84.291000</td>\n",
       "      <td>0.003460</td>\n",
       "      <td>0.000020</td>\n",
       "      <td>0.001660</td>\n",
       "      <td>0.001860</td>\n",
       "      <td>0.004985</td>\n",
       "      <td>0.016505</td>\n",
       "      <td>0.148500</td>\n",
       "      <td>...</td>\n",
       "      <td>0.024735</td>\n",
       "      <td>0.005925</td>\n",
       "      <td>19.198000</td>\n",
       "      <td>1.000000</td>\n",
       "      <td>0.421306</td>\n",
       "      <td>0.674758</td>\n",
       "      <td>-6.450096</td>\n",
       "      <td>0.174351</td>\n",
       "      <td>2.099125</td>\n",
       "      <td>0.137451</td>\n",
       "    </tr>\n",
       "    <tr>\n",
       "      <th>50%</th>\n",
       "      <td>148.790000</td>\n",
       "      <td>175.829000</td>\n",
       "      <td>104.315000</td>\n",
       "      <td>0.004940</td>\n",
       "      <td>0.000030</td>\n",
       "      <td>0.002500</td>\n",
       "      <td>0.002690</td>\n",
       "      <td>0.007490</td>\n",
       "      <td>0.022970</td>\n",
       "      <td>0.221000</td>\n",
       "      <td>...</td>\n",
       "      <td>0.038360</td>\n",
       "      <td>0.011660</td>\n",
       "      <td>22.085000</td>\n",
       "      <td>1.000000</td>\n",
       "      <td>0.495954</td>\n",
       "      <td>0.722254</td>\n",
       "      <td>-5.720868</td>\n",
       "      <td>0.218885</td>\n",
       "      <td>2.361532</td>\n",
       "      <td>0.194052</td>\n",
       "    </tr>\n",
       "    <tr>\n",
       "      <th>75%</th>\n",
       "      <td>182.769000</td>\n",
       "      <td>224.205500</td>\n",
       "      <td>140.018500</td>\n",
       "      <td>0.007365</td>\n",
       "      <td>0.000060</td>\n",
       "      <td>0.003835</td>\n",
       "      <td>0.003955</td>\n",
       "      <td>0.011505</td>\n",
       "      <td>0.037885</td>\n",
       "      <td>0.350000</td>\n",
       "      <td>...</td>\n",
       "      <td>0.060795</td>\n",
       "      <td>0.025640</td>\n",
       "      <td>25.075500</td>\n",
       "      <td>1.000000</td>\n",
       "      <td>0.587562</td>\n",
       "      <td>0.761881</td>\n",
       "      <td>-5.046192</td>\n",
       "      <td>0.279234</td>\n",
       "      <td>2.636456</td>\n",
       "      <td>0.252980</td>\n",
       "    </tr>\n",
       "    <tr>\n",
       "      <th>max</th>\n",
       "      <td>260.105000</td>\n",
       "      <td>592.030000</td>\n",
       "      <td>239.170000</td>\n",
       "      <td>0.033160</td>\n",
       "      <td>0.000260</td>\n",
       "      <td>0.021440</td>\n",
       "      <td>0.019580</td>\n",
       "      <td>0.064330</td>\n",
       "      <td>0.119080</td>\n",
       "      <td>1.302000</td>\n",
       "      <td>...</td>\n",
       "      <td>0.169420</td>\n",
       "      <td>0.314820</td>\n",
       "      <td>33.047000</td>\n",
       "      <td>1.000000</td>\n",
       "      <td>0.685151</td>\n",
       "      <td>0.825288</td>\n",
       "      <td>-2.434031</td>\n",
       "      <td>0.450493</td>\n",
       "      <td>3.671155</td>\n",
       "      <td>0.527367</td>\n",
       "    </tr>\n",
       "  </tbody>\n",
       "</table>\n",
       "<p>8 rows × 23 columns</p>\n",
       "</div>"
      ],
      "text/plain": [
       "       MDVP:Fo(Hz)  MDVP:Fhi(Hz)  MDVP:Flo(Hz)  MDVP:Jitter(%)  \\\n",
       "count   195.000000    195.000000    195.000000      195.000000   \n",
       "mean    154.228641    197.104918    116.324631        0.006220   \n",
       "std      41.390065     91.491548     43.521413        0.004848   \n",
       "min      88.333000    102.145000     65.476000        0.001680   \n",
       "25%     117.572000    134.862500     84.291000        0.003460   \n",
       "50%     148.790000    175.829000    104.315000        0.004940   \n",
       "75%     182.769000    224.205500    140.018500        0.007365   \n",
       "max     260.105000    592.030000    239.170000        0.033160   \n",
       "\n",
       "       MDVP:Jitter(Abs)    MDVP:RAP    MDVP:PPQ  Jitter:DDP  MDVP:Shimmer  \\\n",
       "count        195.000000  195.000000  195.000000  195.000000    195.000000   \n",
       "mean           0.000044    0.003306    0.003446    0.009920      0.029709   \n",
       "std            0.000035    0.002968    0.002759    0.008903      0.018857   \n",
       "min            0.000007    0.000680    0.000920    0.002040      0.009540   \n",
       "25%            0.000020    0.001660    0.001860    0.004985      0.016505   \n",
       "50%            0.000030    0.002500    0.002690    0.007490      0.022970   \n",
       "75%            0.000060    0.003835    0.003955    0.011505      0.037885   \n",
       "max            0.000260    0.021440    0.019580    0.064330      0.119080   \n",
       "\n",
       "       MDVP:Shimmer(dB)  ...  Shimmer:DDA         NHR         HNR      status  \\\n",
       "count        195.000000  ...   195.000000  195.000000  195.000000  195.000000   \n",
       "mean           0.282251  ...     0.046993    0.024847   21.885974    0.753846   \n",
       "std            0.194877  ...     0.030459    0.040418    4.425764    0.431878   \n",
       "min            0.085000  ...     0.013640    0.000650    8.441000    0.000000   \n",
       "25%            0.148500  ...     0.024735    0.005925   19.198000    1.000000   \n",
       "50%            0.221000  ...     0.038360    0.011660   22.085000    1.000000   \n",
       "75%            0.350000  ...     0.060795    0.025640   25.075500    1.000000   \n",
       "max            1.302000  ...     0.169420    0.314820   33.047000    1.000000   \n",
       "\n",
       "             RPDE         DFA     spread1     spread2          D2         PPE  \n",
       "count  195.000000  195.000000  195.000000  195.000000  195.000000  195.000000  \n",
       "mean     0.498536    0.718099   -5.684397    0.226510    2.381826    0.206552  \n",
       "std      0.103942    0.055336    1.090208    0.083406    0.382799    0.090119  \n",
       "min      0.256570    0.574282   -7.964984    0.006274    1.423287    0.044539  \n",
       "25%      0.421306    0.674758   -6.450096    0.174351    2.099125    0.137451  \n",
       "50%      0.495954    0.722254   -5.720868    0.218885    2.361532    0.194052  \n",
       "75%      0.587562    0.761881   -5.046192    0.279234    2.636456    0.252980  \n",
       "max      0.685151    0.825288   -2.434031    0.450493    3.671155    0.527367  \n",
       "\n",
       "[8 rows x 23 columns]"
      ]
     },
     "execution_count": 7,
     "metadata": {},
     "output_type": "execute_result"
    }
   ],
   "source": [
    "# getting some statistical measures about the data\n",
    "parkinsons_data.describe()"
   ]
  },
  {
   "cell_type": "code",
   "execution_count": 8,
   "metadata": {
    "colab": {
     "base_uri": "https://localhost:8080/"
    },
    "id": "3O8AclzwExyH",
    "outputId": "c6553ba4-0bea-4075-c2bc-d4b13ce0a178"
   },
   "outputs": [
    {
     "data": {
      "text/plain": [
       "status\n",
       "1    147\n",
       "0     48\n",
       "Name: count, dtype: int64"
      ]
     },
     "execution_count": 8,
     "metadata": {},
     "output_type": "execute_result"
    }
   ],
   "source": [
    "# distribution of target Variable\n",
    "parkinsons_data['status'].value_counts()"
   ]
  },
  {
   "cell_type": "markdown",
   "metadata": {
    "id": "L1srlxtEFYfN"
   },
   "source": [
    "1  --> Parkinson's Positive\n",
    "\n",
    "0 --> Healthy\n"
   ]
  },
  {
   "cell_type": "code",
   "execution_count": 9,
   "metadata": {
    "colab": {
     "base_uri": "https://localhost:8080/",
     "height": 237
    },
    "id": "zUrPan7CFTMq",
    "outputId": "0b727601-dc36-4a6c-9abf-59ab9284de1c"
   },
   "outputs": [
    {
     "data": {
      "text/html": [
       "<div>\n",
       "<style scoped>\n",
       "    .dataframe tbody tr th:only-of-type {\n",
       "        vertical-align: middle;\n",
       "    }\n",
       "\n",
       "    .dataframe tbody tr th {\n",
       "        vertical-align: top;\n",
       "    }\n",
       "\n",
       "    .dataframe thead th {\n",
       "        text-align: right;\n",
       "    }\n",
       "</style>\n",
       "<table border=\"1\" class=\"dataframe\">\n",
       "  <thead>\n",
       "    <tr style=\"text-align: right;\">\n",
       "      <th></th>\n",
       "      <th>MDVP:Fo(Hz)</th>\n",
       "      <th>MDVP:Fhi(Hz)</th>\n",
       "      <th>MDVP:Flo(Hz)</th>\n",
       "      <th>MDVP:Jitter(%)</th>\n",
       "      <th>MDVP:Jitter(Abs)</th>\n",
       "      <th>MDVP:RAP</th>\n",
       "      <th>MDVP:PPQ</th>\n",
       "      <th>Jitter:DDP</th>\n",
       "      <th>MDVP:Shimmer</th>\n",
       "      <th>MDVP:Shimmer(dB)</th>\n",
       "      <th>...</th>\n",
       "      <th>MDVP:APQ</th>\n",
       "      <th>Shimmer:DDA</th>\n",
       "      <th>NHR</th>\n",
       "      <th>HNR</th>\n",
       "      <th>RPDE</th>\n",
       "      <th>DFA</th>\n",
       "      <th>spread1</th>\n",
       "      <th>spread2</th>\n",
       "      <th>D2</th>\n",
       "      <th>PPE</th>\n",
       "    </tr>\n",
       "    <tr>\n",
       "      <th>status</th>\n",
       "      <th></th>\n",
       "      <th></th>\n",
       "      <th></th>\n",
       "      <th></th>\n",
       "      <th></th>\n",
       "      <th></th>\n",
       "      <th></th>\n",
       "      <th></th>\n",
       "      <th></th>\n",
       "      <th></th>\n",
       "      <th></th>\n",
       "      <th></th>\n",
       "      <th></th>\n",
       "      <th></th>\n",
       "      <th></th>\n",
       "      <th></th>\n",
       "      <th></th>\n",
       "      <th></th>\n",
       "      <th></th>\n",
       "      <th></th>\n",
       "      <th></th>\n",
       "    </tr>\n",
       "  </thead>\n",
       "  <tbody>\n",
       "    <tr>\n",
       "      <th>0</th>\n",
       "      <td>181.937771</td>\n",
       "      <td>223.636750</td>\n",
       "      <td>145.207292</td>\n",
       "      <td>0.003866</td>\n",
       "      <td>0.000023</td>\n",
       "      <td>0.001925</td>\n",
       "      <td>0.002056</td>\n",
       "      <td>0.005776</td>\n",
       "      <td>0.017615</td>\n",
       "      <td>0.162958</td>\n",
       "      <td>...</td>\n",
       "      <td>0.013305</td>\n",
       "      <td>0.028511</td>\n",
       "      <td>0.011483</td>\n",
       "      <td>24.678750</td>\n",
       "      <td>0.442552</td>\n",
       "      <td>0.695716</td>\n",
       "      <td>-6.759264</td>\n",
       "      <td>0.160292</td>\n",
       "      <td>2.154491</td>\n",
       "      <td>0.123017</td>\n",
       "    </tr>\n",
       "    <tr>\n",
       "      <th>1</th>\n",
       "      <td>145.180762</td>\n",
       "      <td>188.441463</td>\n",
       "      <td>106.893558</td>\n",
       "      <td>0.006989</td>\n",
       "      <td>0.000051</td>\n",
       "      <td>0.003757</td>\n",
       "      <td>0.003900</td>\n",
       "      <td>0.011273</td>\n",
       "      <td>0.033658</td>\n",
       "      <td>0.321204</td>\n",
       "      <td>...</td>\n",
       "      <td>0.027600</td>\n",
       "      <td>0.053027</td>\n",
       "      <td>0.029211</td>\n",
       "      <td>20.974048</td>\n",
       "      <td>0.516816</td>\n",
       "      <td>0.725408</td>\n",
       "      <td>-5.333420</td>\n",
       "      <td>0.248133</td>\n",
       "      <td>2.456058</td>\n",
       "      <td>0.233828</td>\n",
       "    </tr>\n",
       "  </tbody>\n",
       "</table>\n",
       "<p>2 rows × 22 columns</p>\n",
       "</div>"
      ],
      "text/plain": [
       "        MDVP:Fo(Hz)  MDVP:Fhi(Hz)  MDVP:Flo(Hz)  MDVP:Jitter(%)  \\\n",
       "status                                                            \n",
       "0        181.937771    223.636750    145.207292        0.003866   \n",
       "1        145.180762    188.441463    106.893558        0.006989   \n",
       "\n",
       "        MDVP:Jitter(Abs)  MDVP:RAP  MDVP:PPQ  Jitter:DDP  MDVP:Shimmer  \\\n",
       "status                                                                   \n",
       "0               0.000023  0.001925  0.002056    0.005776      0.017615   \n",
       "1               0.000051  0.003757  0.003900    0.011273      0.033658   \n",
       "\n",
       "        MDVP:Shimmer(dB)  ...  MDVP:APQ  Shimmer:DDA       NHR        HNR  \\\n",
       "status                    ...                                               \n",
       "0               0.162958  ...  0.013305     0.028511  0.011483  24.678750   \n",
       "1               0.321204  ...  0.027600     0.053027  0.029211  20.974048   \n",
       "\n",
       "            RPDE       DFA   spread1   spread2        D2       PPE  \n",
       "status                                                              \n",
       "0       0.442552  0.695716 -6.759264  0.160292  2.154491  0.123017  \n",
       "1       0.516816  0.725408 -5.333420  0.248133  2.456058  0.233828  \n",
       "\n",
       "[2 rows x 22 columns]"
      ]
     },
     "execution_count": 9,
     "metadata": {},
     "output_type": "execute_result"
    }
   ],
   "source": [
    "# grouping the data bas3ed on the target variable\n",
    "parkinsons_data.groupby('status').mean(numeric_only=True)\n"
   ]
  },
  {
   "cell_type": "markdown",
   "metadata": {
    "id": "8RY6c0waGSs7"
   },
   "source": [
    "Data Pre-Processing"
   ]
  },
  {
   "cell_type": "markdown",
   "metadata": {
    "id": "We7sRYu7Gc4q"
   },
   "source": [
    "Separating the features & Target"
   ]
  },
  {
   "cell_type": "code",
   "execution_count": 10,
   "metadata": {
    "id": "UAcz8jFnFuzH"
   },
   "outputs": [],
   "source": [
    "X = parkinsons_data.drop(columns=['name','status'], axis=1)\n",
    "Y = parkinsons_data['status']"
   ]
  },
  {
   "cell_type": "code",
   "execution_count": 11,
   "metadata": {
    "colab": {
     "base_uri": "https://localhost:8080/"
    },
    "id": "guRof_8WG1Yn",
    "outputId": "2ee8041d-325f-4f56-bb53-1b0e84ed18a5"
   },
   "outputs": [
    {
     "name": "stdout",
     "output_type": "stream",
     "text": [
      "     MDVP:Fo(Hz)  MDVP:Fhi(Hz)  MDVP:Flo(Hz)  MDVP:Jitter(%)  \\\n",
      "0        119.992       157.302        74.997         0.00784   \n",
      "1        122.400       148.650       113.819         0.00968   \n",
      "2        116.682       131.111       111.555         0.01050   \n",
      "3        116.676       137.871       111.366         0.00997   \n",
      "4        116.014       141.781       110.655         0.01284   \n",
      "..           ...           ...           ...             ...   \n",
      "190      174.188       230.978        94.261         0.00459   \n",
      "191      209.516       253.017        89.488         0.00564   \n",
      "192      174.688       240.005        74.287         0.01360   \n",
      "193      198.764       396.961        74.904         0.00740   \n",
      "194      214.289       260.277        77.973         0.00567   \n",
      "\n",
      "     MDVP:Jitter(Abs)  MDVP:RAP  MDVP:PPQ  Jitter:DDP  MDVP:Shimmer  \\\n",
      "0             0.00007   0.00370   0.00554     0.01109       0.04374   \n",
      "1             0.00008   0.00465   0.00696     0.01394       0.06134   \n",
      "2             0.00009   0.00544   0.00781     0.01633       0.05233   \n",
      "3             0.00009   0.00502   0.00698     0.01505       0.05492   \n",
      "4             0.00011   0.00655   0.00908     0.01966       0.06425   \n",
      "..                ...       ...       ...         ...           ...   \n",
      "190           0.00003   0.00263   0.00259     0.00790       0.04087   \n",
      "191           0.00003   0.00331   0.00292     0.00994       0.02751   \n",
      "192           0.00008   0.00624   0.00564     0.01873       0.02308   \n",
      "193           0.00004   0.00370   0.00390     0.01109       0.02296   \n",
      "194           0.00003   0.00295   0.00317     0.00885       0.01884   \n",
      "\n",
      "     MDVP:Shimmer(dB)  ...  MDVP:APQ  Shimmer:DDA      NHR     HNR      RPDE  \\\n",
      "0               0.426  ...   0.02971      0.06545  0.02211  21.033  0.414783   \n",
      "1               0.626  ...   0.04368      0.09403  0.01929  19.085  0.458359   \n",
      "2               0.482  ...   0.03590      0.08270  0.01309  20.651  0.429895   \n",
      "3               0.517  ...   0.03772      0.08771  0.01353  20.644  0.434969   \n",
      "4               0.584  ...   0.04465      0.10470  0.01767  19.649  0.417356   \n",
      "..                ...  ...       ...          ...      ...     ...       ...   \n",
      "190             0.405  ...   0.02745      0.07008  0.02764  19.517  0.448439   \n",
      "191             0.263  ...   0.01879      0.04812  0.01810  19.147  0.431674   \n",
      "192             0.256  ...   0.01667      0.03804  0.10715  17.883  0.407567   \n",
      "193             0.241  ...   0.01588      0.03794  0.07223  19.020  0.451221   \n",
      "194             0.190  ...   0.01373      0.03078  0.04398  21.209  0.462803   \n",
      "\n",
      "          DFA   spread1   spread2        D2       PPE  \n",
      "0    0.815285 -4.813031  0.266482  2.301442  0.284654  \n",
      "1    0.819521 -4.075192  0.335590  2.486855  0.368674  \n",
      "2    0.825288 -4.443179  0.311173  2.342259  0.332634  \n",
      "3    0.819235 -4.117501  0.334147  2.405554  0.368975  \n",
      "4    0.823484 -3.747787  0.234513  2.332180  0.410335  \n",
      "..        ...       ...       ...       ...       ...  \n",
      "190  0.657899 -6.538586  0.121952  2.657476  0.133050  \n",
      "191  0.683244 -6.195325  0.129303  2.784312  0.168895  \n",
      "192  0.655683 -6.787197  0.158453  2.679772  0.131728  \n",
      "193  0.643956 -6.744577  0.207454  2.138608  0.123306  \n",
      "194  0.664357 -5.724056  0.190667  2.555477  0.148569  \n",
      "\n",
      "[195 rows x 22 columns]\n"
     ]
    }
   ],
   "source": [
    "print(X)"
   ]
  },
  {
   "cell_type": "code",
   "execution_count": 12,
   "metadata": {
    "colab": {
     "base_uri": "https://localhost:8080/"
    },
    "id": "xSNrvkJoG3cY",
    "outputId": "90eb8fc4-45c7-4b80-c0ca-cf998c3ee173"
   },
   "outputs": [
    {
     "name": "stdout",
     "output_type": "stream",
     "text": [
      "0      1\n",
      "1      1\n",
      "2      1\n",
      "3      1\n",
      "4      1\n",
      "      ..\n",
      "190    0\n",
      "191    0\n",
      "192    0\n",
      "193    0\n",
      "194    0\n",
      "Name: status, Length: 195, dtype: int64\n"
     ]
    }
   ],
   "source": [
    "print(Y)"
   ]
  },
  {
   "cell_type": "markdown",
   "metadata": {
    "id": "WDeqEaaHHBAS"
   },
   "source": [
    "Splitting the data to training data & Test data"
   ]
  },
  {
   "cell_type": "code",
   "execution_count": 13,
   "metadata": {
    "id": "4c6nrCiVG6NB"
   },
   "outputs": [],
   "source": [
    "X_train, X_test, Y_train, Y_test = train_test_split(X, Y, test_size=0.2, random_state=2)"
   ]
  },
  {
   "cell_type": "code",
   "execution_count": 14,
   "metadata": {
    "colab": {
     "base_uri": "https://localhost:8080/"
    },
    "id": "6OqUka96H35c",
    "outputId": "34b98feb-eab2-4a4f-db37-32ba0141bba3"
   },
   "outputs": [
    {
     "name": "stdout",
     "output_type": "stream",
     "text": [
      "(195, 22) (156, 22) (39, 22)\n"
     ]
    }
   ],
   "source": [
    "print(X.shape, X_train.shape, X_test.shape)"
   ]
  },
  {
   "cell_type": "markdown",
   "metadata": {
    "id": "ACsXtFTGIFU-"
   },
   "source": [
    "Data Standardization"
   ]
  },
  {
   "cell_type": "code",
   "execution_count": 15,
   "metadata": {
    "id": "DbpeUHeUH-4A"
   },
   "outputs": [],
   "source": [
    "scaler = StandardScaler()"
   ]
  },
  {
   "cell_type": "code",
   "execution_count": 16,
   "metadata": {
    "id": "MVkVqUbhIdBs"
   },
   "outputs": [
    {
     "data": {
      "text/html": [
       "<style>#sk-container-id-1 {color: black;}#sk-container-id-1 pre{padding: 0;}#sk-container-id-1 div.sk-toggleable {background-color: white;}#sk-container-id-1 label.sk-toggleable__label {cursor: pointer;display: block;width: 100%;margin-bottom: 0;padding: 0.3em;box-sizing: border-box;text-align: center;}#sk-container-id-1 label.sk-toggleable__label-arrow:before {content: \"▸\";float: left;margin-right: 0.25em;color: #696969;}#sk-container-id-1 label.sk-toggleable__label-arrow:hover:before {color: black;}#sk-container-id-1 div.sk-estimator:hover label.sk-toggleable__label-arrow:before {color: black;}#sk-container-id-1 div.sk-toggleable__content {max-height: 0;max-width: 0;overflow: hidden;text-align: left;background-color: #f0f8ff;}#sk-container-id-1 div.sk-toggleable__content pre {margin: 0.2em;color: black;border-radius: 0.25em;background-color: #f0f8ff;}#sk-container-id-1 input.sk-toggleable__control:checked~div.sk-toggleable__content {max-height: 200px;max-width: 100%;overflow: auto;}#sk-container-id-1 input.sk-toggleable__control:checked~label.sk-toggleable__label-arrow:before {content: \"▾\";}#sk-container-id-1 div.sk-estimator input.sk-toggleable__control:checked~label.sk-toggleable__label {background-color: #d4ebff;}#sk-container-id-1 div.sk-label input.sk-toggleable__control:checked~label.sk-toggleable__label {background-color: #d4ebff;}#sk-container-id-1 input.sk-hidden--visually {border: 0;clip: rect(1px 1px 1px 1px);clip: rect(1px, 1px, 1px, 1px);height: 1px;margin: -1px;overflow: hidden;padding: 0;position: absolute;width: 1px;}#sk-container-id-1 div.sk-estimator {font-family: monospace;background-color: #f0f8ff;border: 1px dotted black;border-radius: 0.25em;box-sizing: border-box;margin-bottom: 0.5em;}#sk-container-id-1 div.sk-estimator:hover {background-color: #d4ebff;}#sk-container-id-1 div.sk-parallel-item::after {content: \"\";width: 100%;border-bottom: 1px solid gray;flex-grow: 1;}#sk-container-id-1 div.sk-label:hover label.sk-toggleable__label {background-color: #d4ebff;}#sk-container-id-1 div.sk-serial::before {content: \"\";position: absolute;border-left: 1px solid gray;box-sizing: border-box;top: 0;bottom: 0;left: 50%;z-index: 0;}#sk-container-id-1 div.sk-serial {display: flex;flex-direction: column;align-items: center;background-color: white;padding-right: 0.2em;padding-left: 0.2em;position: relative;}#sk-container-id-1 div.sk-item {position: relative;z-index: 1;}#sk-container-id-1 div.sk-parallel {display: flex;align-items: stretch;justify-content: center;background-color: white;position: relative;}#sk-container-id-1 div.sk-item::before, #sk-container-id-1 div.sk-parallel-item::before {content: \"\";position: absolute;border-left: 1px solid gray;box-sizing: border-box;top: 0;bottom: 0;left: 50%;z-index: -1;}#sk-container-id-1 div.sk-parallel-item {display: flex;flex-direction: column;z-index: 1;position: relative;background-color: white;}#sk-container-id-1 div.sk-parallel-item:first-child::after {align-self: flex-end;width: 50%;}#sk-container-id-1 div.sk-parallel-item:last-child::after {align-self: flex-start;width: 50%;}#sk-container-id-1 div.sk-parallel-item:only-child::after {width: 0;}#sk-container-id-1 div.sk-dashed-wrapped {border: 1px dashed gray;margin: 0 0.4em 0.5em 0.4em;box-sizing: border-box;padding-bottom: 0.4em;background-color: white;}#sk-container-id-1 div.sk-label label {font-family: monospace;font-weight: bold;display: inline-block;line-height: 1.2em;}#sk-container-id-1 div.sk-label-container {text-align: center;}#sk-container-id-1 div.sk-container {/* jupyter's `normalize.less` sets `[hidden] { display: none; }` but bootstrap.min.css set `[hidden] { display: none !important; }` so we also need the `!important` here to be able to override the default hidden behavior on the sphinx rendered scikit-learn.org. See: https://github.com/scikit-learn/scikit-learn/issues/21755 */display: inline-block !important;position: relative;}#sk-container-id-1 div.sk-text-repr-fallback {display: none;}</style><div id=\"sk-container-id-1\" class=\"sk-top-container\"><div class=\"sk-text-repr-fallback\"><pre>StandardScaler()</pre><b>In a Jupyter environment, please rerun this cell to show the HTML representation or trust the notebook. <br />On GitHub, the HTML representation is unable to render, please try loading this page with nbviewer.org.</b></div><div class=\"sk-container\" hidden><div class=\"sk-item\"><div class=\"sk-estimator sk-toggleable\"><input class=\"sk-toggleable__control sk-hidden--visually\" id=\"sk-estimator-id-1\" type=\"checkbox\" checked><label for=\"sk-estimator-id-1\" class=\"sk-toggleable__label sk-toggleable__label-arrow\">StandardScaler</label><div class=\"sk-toggleable__content\"><pre>StandardScaler()</pre></div></div></div></div></div>"
      ],
      "text/plain": [
       "StandardScaler()"
      ]
     },
     "execution_count": 16,
     "metadata": {},
     "output_type": "execute_result"
    }
   ],
   "source": [
    "scaler.fit(X_train)"
   ]
  },
  {
   "cell_type": "code",
   "execution_count": 17,
   "metadata": {
    "id": "1FeONzpiInv5"
   },
   "outputs": [],
   "source": [
    " X_train = scaler.transform(X_train)\n",
    "\n",
    " X_test = scaler.transform(X_test)"
   ]
  },
  {
   "cell_type": "code",
   "execution_count": 18,
   "metadata": {
    "id": "OS2_4yaVJAiH"
   },
   "outputs": [
    {
     "name": "stdout",
     "output_type": "stream",
     "text": [
      "[[ 0.63239631 -0.02731081 -0.87985049 ... -0.97586547 -0.55160318\n",
      "   0.07769494]\n",
      " [-1.05512719 -0.83337041 -0.9284778  ...  0.3981808  -0.61014073\n",
      "   0.39291782]\n",
      " [ 0.02996187 -0.29531068 -1.12211107 ... -0.43937044 -0.62849605\n",
      "  -0.50948408]\n",
      " ...\n",
      " [-0.9096785  -0.6637302  -0.160638   ...  1.22001022 -0.47404629\n",
      "  -0.2159482 ]\n",
      " [-0.35977689  0.19731822 -0.79063679 ... -0.17896029 -0.47272835\n",
      "   0.28181221]\n",
      " [ 1.01957066  0.19922317 -0.61914972 ... -0.716232    1.23632066\n",
      "  -0.05829386]]\n"
     ]
    }
   ],
   "source": [
    " print(X_train)"
   ]
  },
  {
   "cell_type": "markdown",
   "metadata": {
    "id": "ftpkgsxdN1T9"
   },
   "source": [
    "## **Feature Selection - With Correlation**\n"
   ]
  },
  {
   "cell_type": "code",
   "execution_count": 19,
   "metadata": {
    "id": "876JB2viN0YG"
   },
   "outputs": [
    {
     "data": {
      "text/html": [
       "<div>\n",
       "<style scoped>\n",
       "    .dataframe tbody tr th:only-of-type {\n",
       "        vertical-align: middle;\n",
       "    }\n",
       "\n",
       "    .dataframe tbody tr th {\n",
       "        vertical-align: top;\n",
       "    }\n",
       "\n",
       "    .dataframe thead th {\n",
       "        text-align: right;\n",
       "    }\n",
       "</style>\n",
       "<table border=\"1\" class=\"dataframe\">\n",
       "  <thead>\n",
       "    <tr style=\"text-align: right;\">\n",
       "      <th></th>\n",
       "      <th>0</th>\n",
       "      <th>1</th>\n",
       "      <th>2</th>\n",
       "      <th>3</th>\n",
       "      <th>4</th>\n",
       "      <th>5</th>\n",
       "      <th>6</th>\n",
       "      <th>7</th>\n",
       "      <th>8</th>\n",
       "      <th>9</th>\n",
       "      <th>...</th>\n",
       "      <th>12</th>\n",
       "      <th>13</th>\n",
       "      <th>14</th>\n",
       "      <th>15</th>\n",
       "      <th>16</th>\n",
       "      <th>17</th>\n",
       "      <th>18</th>\n",
       "      <th>19</th>\n",
       "      <th>20</th>\n",
       "      <th>21</th>\n",
       "    </tr>\n",
       "  </thead>\n",
       "  <tbody>\n",
       "    <tr>\n",
       "      <th>0</th>\n",
       "      <td>1.000000</td>\n",
       "      <td>0.411874</td>\n",
       "      <td>0.607830</td>\n",
       "      <td>-0.101380</td>\n",
       "      <td>-0.344577</td>\n",
       "      <td>-0.058731</td>\n",
       "      <td>-0.084886</td>\n",
       "      <td>-0.058725</td>\n",
       "      <td>-0.106337</td>\n",
       "      <td>-0.075967</td>\n",
       "      <td>...</td>\n",
       "      <td>-0.078999</td>\n",
       "      <td>-0.106934</td>\n",
       "      <td>-0.034537</td>\n",
       "      <td>0.059567</td>\n",
       "      <td>-0.378747</td>\n",
       "      <td>-0.407923</td>\n",
       "      <td>-0.403130</td>\n",
       "      <td>-0.233148</td>\n",
       "      <td>0.140885</td>\n",
       "      <td>-0.349624</td>\n",
       "    </tr>\n",
       "    <tr>\n",
       "      <th>1</th>\n",
       "      <td>0.411874</td>\n",
       "      <td>1.000000</td>\n",
       "      <td>0.081232</td>\n",
       "      <td>0.128430</td>\n",
       "      <td>0.006625</td>\n",
       "      <td>0.124199</td>\n",
       "      <td>0.123354</td>\n",
       "      <td>0.124184</td>\n",
       "      <td>0.016231</td>\n",
       "      <td>0.058620</td>\n",
       "      <td>...</td>\n",
       "      <td>0.010695</td>\n",
       "      <td>0.014661</td>\n",
       "      <td>0.172976</td>\n",
       "      <td>-0.040270</td>\n",
       "      <td>-0.116157</td>\n",
       "      <td>-0.323202</td>\n",
       "      <td>-0.024969</td>\n",
       "      <td>0.042804</td>\n",
       "      <td>0.162772</td>\n",
       "      <td>-0.003285</td>\n",
       "    </tr>\n",
       "    <tr>\n",
       "      <th>2</th>\n",
       "      <td>0.607830</td>\n",
       "      <td>0.081232</td>\n",
       "      <td>1.000000</td>\n",
       "      <td>-0.125290</td>\n",
       "      <td>-0.261051</td>\n",
       "      <td>-0.085559</td>\n",
       "      <td>-0.080014</td>\n",
       "      <td>-0.085474</td>\n",
       "      <td>-0.159771</td>\n",
       "      <td>-0.127646</td>\n",
       "      <td>...</td>\n",
       "      <td>-0.111255</td>\n",
       "      <td>-0.170158</td>\n",
       "      <td>-0.114652</td>\n",
       "      <td>0.205685</td>\n",
       "      <td>-0.414710</td>\n",
       "      <td>-0.011054</td>\n",
       "      <td>-0.386459</td>\n",
       "      <td>-0.213747</td>\n",
       "      <td>-0.121229</td>\n",
       "      <td>-0.331130</td>\n",
       "    </tr>\n",
       "    <tr>\n",
       "      <th>3</th>\n",
       "      <td>-0.101380</td>\n",
       "      <td>0.128430</td>\n",
       "      <td>-0.125290</td>\n",
       "      <td>1.000000</td>\n",
       "      <td>0.943829</td>\n",
       "      <td>0.991042</td>\n",
       "      <td>0.976139</td>\n",
       "      <td>0.991041</td>\n",
       "      <td>0.775038</td>\n",
       "      <td>0.807445</td>\n",
       "      <td>...</td>\n",
       "      <td>0.764698</td>\n",
       "      <td>0.751628</td>\n",
       "      <td>0.920562</td>\n",
       "      <td>-0.738652</td>\n",
       "      <td>0.367026</td>\n",
       "      <td>0.050785</td>\n",
       "      <td>0.701863</td>\n",
       "      <td>0.391307</td>\n",
       "      <td>0.457060</td>\n",
       "      <td>0.730133</td>\n",
       "    </tr>\n",
       "    <tr>\n",
       "      <th>4</th>\n",
       "      <td>-0.344577</td>\n",
       "      <td>0.006625</td>\n",
       "      <td>-0.261051</td>\n",
       "      <td>0.943829</td>\n",
       "      <td>1.000000</td>\n",
       "      <td>0.933227</td>\n",
       "      <td>0.900629</td>\n",
       "      <td>0.933233</td>\n",
       "      <td>0.718815</td>\n",
       "      <td>0.727982</td>\n",
       "      <td>...</td>\n",
       "      <td>0.663089</td>\n",
       "      <td>0.713342</td>\n",
       "      <td>0.871460</td>\n",
       "      <td>-0.671729</td>\n",
       "      <td>0.437730</td>\n",
       "      <td>0.100276</td>\n",
       "      <td>0.730724</td>\n",
       "      <td>0.375066</td>\n",
       "      <td>0.340885</td>\n",
       "      <td>0.741016</td>\n",
       "    </tr>\n",
       "    <tr>\n",
       "      <th>5</th>\n",
       "      <td>-0.058731</td>\n",
       "      <td>0.124199</td>\n",
       "      <td>-0.085559</td>\n",
       "      <td>0.991042</td>\n",
       "      <td>0.933227</td>\n",
       "      <td>1.000000</td>\n",
       "      <td>0.960108</td>\n",
       "      <td>1.000000</td>\n",
       "      <td>0.767026</td>\n",
       "      <td>0.794694</td>\n",
       "      <td>...</td>\n",
       "      <td>0.744591</td>\n",
       "      <td>0.751548</td>\n",
       "      <td>0.932983</td>\n",
       "      <td>-0.732193</td>\n",
       "      <td>0.348053</td>\n",
       "      <td>0.012951</td>\n",
       "      <td>0.657388</td>\n",
       "      <td>0.333126</td>\n",
       "      <td>0.449567</td>\n",
       "      <td>0.680129</td>\n",
       "    </tr>\n",
       "    <tr>\n",
       "      <th>6</th>\n",
       "      <td>-0.084886</td>\n",
       "      <td>0.123354</td>\n",
       "      <td>-0.080014</td>\n",
       "      <td>0.976139</td>\n",
       "      <td>0.900629</td>\n",
       "      <td>0.960108</td>\n",
       "      <td>1.000000</td>\n",
       "      <td>0.960108</td>\n",
       "      <td>0.800286</td>\n",
       "      <td>0.841047</td>\n",
       "      <td>...</td>\n",
       "      <td>0.811691</td>\n",
       "      <td>0.764040</td>\n",
       "      <td>0.863768</td>\n",
       "      <td>-0.743578</td>\n",
       "      <td>0.344410</td>\n",
       "      <td>0.140549</td>\n",
       "      <td>0.722696</td>\n",
       "      <td>0.417039</td>\n",
       "      <td>0.443762</td>\n",
       "      <td>0.775791</td>\n",
       "    </tr>\n",
       "    <tr>\n",
       "      <th>7</th>\n",
       "      <td>-0.058725</td>\n",
       "      <td>0.124184</td>\n",
       "      <td>-0.085474</td>\n",
       "      <td>0.991041</td>\n",
       "      <td>0.933233</td>\n",
       "      <td>1.000000</td>\n",
       "      <td>0.960108</td>\n",
       "      <td>1.000000</td>\n",
       "      <td>0.766987</td>\n",
       "      <td>0.794655</td>\n",
       "      <td>...</td>\n",
       "      <td>0.744560</td>\n",
       "      <td>0.751517</td>\n",
       "      <td>0.932997</td>\n",
       "      <td>-0.732116</td>\n",
       "      <td>0.347949</td>\n",
       "      <td>0.012914</td>\n",
       "      <td>0.657350</td>\n",
       "      <td>0.333049</td>\n",
       "      <td>0.449539</td>\n",
       "      <td>0.680109</td>\n",
       "    </tr>\n",
       "    <tr>\n",
       "      <th>8</th>\n",
       "      <td>-0.106337</td>\n",
       "      <td>0.016231</td>\n",
       "      <td>-0.159771</td>\n",
       "      <td>0.775038</td>\n",
       "      <td>0.718815</td>\n",
       "      <td>0.767026</td>\n",
       "      <td>0.800286</td>\n",
       "      <td>0.766987</td>\n",
       "      <td>1.000000</td>\n",
       "      <td>0.987291</td>\n",
       "      <td>...</td>\n",
       "      <td>0.949029</td>\n",
       "      <td>0.987052</td>\n",
       "      <td>0.736474</td>\n",
       "      <td>-0.847489</td>\n",
       "      <td>0.477296</td>\n",
       "      <td>0.117853</td>\n",
       "      <td>0.660393</td>\n",
       "      <td>0.465799</td>\n",
       "      <td>0.529502</td>\n",
       "      <td>0.696574</td>\n",
       "    </tr>\n",
       "    <tr>\n",
       "      <th>9</th>\n",
       "      <td>-0.075967</td>\n",
       "      <td>0.058620</td>\n",
       "      <td>-0.127646</td>\n",
       "      <td>0.807445</td>\n",
       "      <td>0.727982</td>\n",
       "      <td>0.794694</td>\n",
       "      <td>0.841047</td>\n",
       "      <td>0.794655</td>\n",
       "      <td>0.987291</td>\n",
       "      <td>1.000000</td>\n",
       "      <td>...</td>\n",
       "      <td>0.960779</td>\n",
       "      <td>0.962189</td>\n",
       "      <td>0.754502</td>\n",
       "      <td>-0.839121</td>\n",
       "      <td>0.436988</td>\n",
       "      <td>0.126621</td>\n",
       "      <td>0.659657</td>\n",
       "      <td>0.470249</td>\n",
       "      <td>0.531335</td>\n",
       "      <td>0.700376</td>\n",
       "    </tr>\n",
       "    <tr>\n",
       "      <th>10</th>\n",
       "      <td>-0.106931</td>\n",
       "      <td>0.014649</td>\n",
       "      <td>-0.170175</td>\n",
       "      <td>0.751616</td>\n",
       "      <td>0.713326</td>\n",
       "      <td>0.751539</td>\n",
       "      <td>0.764025</td>\n",
       "      <td>0.751508</td>\n",
       "      <td>0.987052</td>\n",
       "      <td>0.962187</td>\n",
       "      <td>...</td>\n",
       "      <td>0.893185</td>\n",
       "      <td>1.000000</td>\n",
       "      <td>0.731805</td>\n",
       "      <td>-0.834682</td>\n",
       "      <td>0.459021</td>\n",
       "      <td>0.109674</td>\n",
       "      <td>0.608449</td>\n",
       "      <td>0.408496</td>\n",
       "      <td>0.486232</td>\n",
       "      <td>0.640070</td>\n",
       "    </tr>\n",
       "    <tr>\n",
       "      <th>11</th>\n",
       "      <td>-0.068929</td>\n",
       "      <td>0.005985</td>\n",
       "      <td>-0.112634</td>\n",
       "      <td>0.730781</td>\n",
       "      <td>0.658500</td>\n",
       "      <td>0.716468</td>\n",
       "      <td>0.787244</td>\n",
       "      <td>0.716437</td>\n",
       "      <td>0.982642</td>\n",
       "      <td>0.974946</td>\n",
       "      <td>...</td>\n",
       "      <td>0.952376</td>\n",
       "      <td>0.958079</td>\n",
       "      <td>0.675277</td>\n",
       "      <td>-0.830659</td>\n",
       "      <td>0.434470</td>\n",
       "      <td>0.170021</td>\n",
       "      <td>0.652665</td>\n",
       "      <td>0.473228</td>\n",
       "      <td>0.531603</td>\n",
       "      <td>0.705954</td>\n",
       "    </tr>\n",
       "    <tr>\n",
       "      <th>12</th>\n",
       "      <td>-0.078999</td>\n",
       "      <td>0.010695</td>\n",
       "      <td>-0.111255</td>\n",
       "      <td>0.764698</td>\n",
       "      <td>0.663089</td>\n",
       "      <td>0.744591</td>\n",
       "      <td>0.811691</td>\n",
       "      <td>0.744560</td>\n",
       "      <td>0.949029</td>\n",
       "      <td>0.960779</td>\n",
       "      <td>...</td>\n",
       "      <td>1.000000</td>\n",
       "      <td>0.893183</td>\n",
       "      <td>0.699307</td>\n",
       "      <td>-0.813218</td>\n",
       "      <td>0.480797</td>\n",
       "      <td>0.128383</td>\n",
       "      <td>0.689943</td>\n",
       "      <td>0.528133</td>\n",
       "      <td>0.560304</td>\n",
       "      <td>0.737500</td>\n",
       "    </tr>\n",
       "    <tr>\n",
       "      <th>13</th>\n",
       "      <td>-0.106934</td>\n",
       "      <td>0.014661</td>\n",
       "      <td>-0.170158</td>\n",
       "      <td>0.751628</td>\n",
       "      <td>0.713342</td>\n",
       "      <td>0.751548</td>\n",
       "      <td>0.764040</td>\n",
       "      <td>0.751517</td>\n",
       "      <td>0.987052</td>\n",
       "      <td>0.962189</td>\n",
       "      <td>...</td>\n",
       "      <td>0.893183</td>\n",
       "      <td>1.000000</td>\n",
       "      <td>0.731811</td>\n",
       "      <td>-0.834683</td>\n",
       "      <td>0.459003</td>\n",
       "      <td>0.109677</td>\n",
       "      <td>0.608452</td>\n",
       "      <td>0.408474</td>\n",
       "      <td>0.486232</td>\n",
       "      <td>0.640082</td>\n",
       "    </tr>\n",
       "    <tr>\n",
       "      <th>14</th>\n",
       "      <td>-0.034537</td>\n",
       "      <td>0.172976</td>\n",
       "      <td>-0.114652</td>\n",
       "      <td>0.920562</td>\n",
       "      <td>0.871460</td>\n",
       "      <td>0.932983</td>\n",
       "      <td>0.863768</td>\n",
       "      <td>0.932997</td>\n",
       "      <td>0.736474</td>\n",
       "      <td>0.754502</td>\n",
       "      <td>...</td>\n",
       "      <td>0.699307</td>\n",
       "      <td>0.731811</td>\n",
       "      <td>1.000000</td>\n",
       "      <td>-0.730480</td>\n",
       "      <td>0.388264</td>\n",
       "      <td>-0.153101</td>\n",
       "      <td>0.563719</td>\n",
       "      <td>0.341056</td>\n",
       "      <td>0.485956</td>\n",
       "      <td>0.580629</td>\n",
       "    </tr>\n",
       "    <tr>\n",
       "      <th>15</th>\n",
       "      <td>0.059567</td>\n",
       "      <td>-0.040270</td>\n",
       "      <td>0.205685</td>\n",
       "      <td>-0.738652</td>\n",
       "      <td>-0.671729</td>\n",
       "      <td>-0.732193</td>\n",
       "      <td>-0.743578</td>\n",
       "      <td>-0.732116</td>\n",
       "      <td>-0.847489</td>\n",
       "      <td>-0.839121</td>\n",
       "      <td>...</td>\n",
       "      <td>-0.813218</td>\n",
       "      <td>-0.834683</td>\n",
       "      <td>-0.730480</td>\n",
       "      <td>1.000000</td>\n",
       "      <td>-0.596396</td>\n",
       "      <td>0.021388</td>\n",
       "      <td>-0.669193</td>\n",
       "      <td>-0.443519</td>\n",
       "      <td>-0.648352</td>\n",
       "      <td>-0.694990</td>\n",
       "    </tr>\n",
       "    <tr>\n",
       "      <th>16</th>\n",
       "      <td>-0.378747</td>\n",
       "      <td>-0.116157</td>\n",
       "      <td>-0.414710</td>\n",
       "      <td>0.367026</td>\n",
       "      <td>0.437730</td>\n",
       "      <td>0.348053</td>\n",
       "      <td>0.344410</td>\n",
       "      <td>0.347949</td>\n",
       "      <td>0.477296</td>\n",
       "      <td>0.436988</td>\n",
       "      <td>...</td>\n",
       "      <td>0.480797</td>\n",
       "      <td>0.459003</td>\n",
       "      <td>0.388264</td>\n",
       "      <td>-0.596396</td>\n",
       "      <td>1.000000</td>\n",
       "      <td>-0.151407</td>\n",
       "      <td>0.593684</td>\n",
       "      <td>0.497886</td>\n",
       "      <td>0.283901</td>\n",
       "      <td>0.549285</td>\n",
       "    </tr>\n",
       "    <tr>\n",
       "      <th>17</th>\n",
       "      <td>-0.407923</td>\n",
       "      <td>-0.323202</td>\n",
       "      <td>-0.011054</td>\n",
       "      <td>0.050785</td>\n",
       "      <td>0.100276</td>\n",
       "      <td>0.012951</td>\n",
       "      <td>0.140549</td>\n",
       "      <td>0.012914</td>\n",
       "      <td>0.117853</td>\n",
       "      <td>0.126621</td>\n",
       "      <td>...</td>\n",
       "      <td>0.128383</td>\n",
       "      <td>0.109677</td>\n",
       "      <td>-0.153101</td>\n",
       "      <td>0.021388</td>\n",
       "      <td>-0.151407</td>\n",
       "      <td>1.000000</td>\n",
       "      <td>0.160626</td>\n",
       "      <td>0.166917</td>\n",
       "      <td>-0.134903</td>\n",
       "      <td>0.228151</td>\n",
       "    </tr>\n",
       "    <tr>\n",
       "      <th>18</th>\n",
       "      <td>-0.403130</td>\n",
       "      <td>-0.024969</td>\n",
       "      <td>-0.386459</td>\n",
       "      <td>0.701863</td>\n",
       "      <td>0.730724</td>\n",
       "      <td>0.657388</td>\n",
       "      <td>0.722696</td>\n",
       "      <td>0.657350</td>\n",
       "      <td>0.660393</td>\n",
       "      <td>0.659657</td>\n",
       "      <td>...</td>\n",
       "      <td>0.689943</td>\n",
       "      <td>0.608452</td>\n",
       "      <td>0.563719</td>\n",
       "      <td>-0.669193</td>\n",
       "      <td>0.593684</td>\n",
       "      <td>0.160626</td>\n",
       "      <td>1.000000</td>\n",
       "      <td>0.650382</td>\n",
       "      <td>0.550363</td>\n",
       "      <td>0.961045</td>\n",
       "    </tr>\n",
       "    <tr>\n",
       "      <th>19</th>\n",
       "      <td>-0.233148</td>\n",
       "      <td>0.042804</td>\n",
       "      <td>-0.213747</td>\n",
       "      <td>0.391307</td>\n",
       "      <td>0.375066</td>\n",
       "      <td>0.333126</td>\n",
       "      <td>0.417039</td>\n",
       "      <td>0.333049</td>\n",
       "      <td>0.465799</td>\n",
       "      <td>0.470249</td>\n",
       "      <td>...</td>\n",
       "      <td>0.528133</td>\n",
       "      <td>0.408474</td>\n",
       "      <td>0.341056</td>\n",
       "      <td>-0.443519</td>\n",
       "      <td>0.497886</td>\n",
       "      <td>0.166917</td>\n",
       "      <td>0.650382</td>\n",
       "      <td>1.000000</td>\n",
       "      <td>0.552094</td>\n",
       "      <td>0.646559</td>\n",
       "    </tr>\n",
       "    <tr>\n",
       "      <th>20</th>\n",
       "      <td>0.140885</td>\n",
       "      <td>0.162772</td>\n",
       "      <td>-0.121229</td>\n",
       "      <td>0.457060</td>\n",
       "      <td>0.340885</td>\n",
       "      <td>0.449567</td>\n",
       "      <td>0.443762</td>\n",
       "      <td>0.449539</td>\n",
       "      <td>0.529502</td>\n",
       "      <td>0.531335</td>\n",
       "      <td>...</td>\n",
       "      <td>0.560304</td>\n",
       "      <td>0.486232</td>\n",
       "      <td>0.485956</td>\n",
       "      <td>-0.648352</td>\n",
       "      <td>0.283901</td>\n",
       "      <td>-0.134903</td>\n",
       "      <td>0.550363</td>\n",
       "      <td>0.552094</td>\n",
       "      <td>1.000000</td>\n",
       "      <td>0.539296</td>\n",
       "    </tr>\n",
       "    <tr>\n",
       "      <th>21</th>\n",
       "      <td>-0.349624</td>\n",
       "      <td>-0.003285</td>\n",
       "      <td>-0.331130</td>\n",
       "      <td>0.730133</td>\n",
       "      <td>0.741016</td>\n",
       "      <td>0.680129</td>\n",
       "      <td>0.775791</td>\n",
       "      <td>0.680109</td>\n",
       "      <td>0.696574</td>\n",
       "      <td>0.700376</td>\n",
       "      <td>...</td>\n",
       "      <td>0.737500</td>\n",
       "      <td>0.640082</td>\n",
       "      <td>0.580629</td>\n",
       "      <td>-0.694990</td>\n",
       "      <td>0.549285</td>\n",
       "      <td>0.228151</td>\n",
       "      <td>0.961045</td>\n",
       "      <td>0.646559</td>\n",
       "      <td>0.539296</td>\n",
       "      <td>1.000000</td>\n",
       "    </tr>\n",
       "  </tbody>\n",
       "</table>\n",
       "<p>22 rows × 22 columns</p>\n",
       "</div>"
      ],
      "text/plain": [
       "          0         1         2         3         4         5         6   \\\n",
       "0   1.000000  0.411874  0.607830 -0.101380 -0.344577 -0.058731 -0.084886   \n",
       "1   0.411874  1.000000  0.081232  0.128430  0.006625  0.124199  0.123354   \n",
       "2   0.607830  0.081232  1.000000 -0.125290 -0.261051 -0.085559 -0.080014   \n",
       "3  -0.101380  0.128430 -0.125290  1.000000  0.943829  0.991042  0.976139   \n",
       "4  -0.344577  0.006625 -0.261051  0.943829  1.000000  0.933227  0.900629   \n",
       "5  -0.058731  0.124199 -0.085559  0.991042  0.933227  1.000000  0.960108   \n",
       "6  -0.084886  0.123354 -0.080014  0.976139  0.900629  0.960108  1.000000   \n",
       "7  -0.058725  0.124184 -0.085474  0.991041  0.933233  1.000000  0.960108   \n",
       "8  -0.106337  0.016231 -0.159771  0.775038  0.718815  0.767026  0.800286   \n",
       "9  -0.075967  0.058620 -0.127646  0.807445  0.727982  0.794694  0.841047   \n",
       "10 -0.106931  0.014649 -0.170175  0.751616  0.713326  0.751539  0.764025   \n",
       "11 -0.068929  0.005985 -0.112634  0.730781  0.658500  0.716468  0.787244   \n",
       "12 -0.078999  0.010695 -0.111255  0.764698  0.663089  0.744591  0.811691   \n",
       "13 -0.106934  0.014661 -0.170158  0.751628  0.713342  0.751548  0.764040   \n",
       "14 -0.034537  0.172976 -0.114652  0.920562  0.871460  0.932983  0.863768   \n",
       "15  0.059567 -0.040270  0.205685 -0.738652 -0.671729 -0.732193 -0.743578   \n",
       "16 -0.378747 -0.116157 -0.414710  0.367026  0.437730  0.348053  0.344410   \n",
       "17 -0.407923 -0.323202 -0.011054  0.050785  0.100276  0.012951  0.140549   \n",
       "18 -0.403130 -0.024969 -0.386459  0.701863  0.730724  0.657388  0.722696   \n",
       "19 -0.233148  0.042804 -0.213747  0.391307  0.375066  0.333126  0.417039   \n",
       "20  0.140885  0.162772 -0.121229  0.457060  0.340885  0.449567  0.443762   \n",
       "21 -0.349624 -0.003285 -0.331130  0.730133  0.741016  0.680129  0.775791   \n",
       "\n",
       "          7         8         9   ...        12        13        14        15  \\\n",
       "0  -0.058725 -0.106337 -0.075967  ... -0.078999 -0.106934 -0.034537  0.059567   \n",
       "1   0.124184  0.016231  0.058620  ...  0.010695  0.014661  0.172976 -0.040270   \n",
       "2  -0.085474 -0.159771 -0.127646  ... -0.111255 -0.170158 -0.114652  0.205685   \n",
       "3   0.991041  0.775038  0.807445  ...  0.764698  0.751628  0.920562 -0.738652   \n",
       "4   0.933233  0.718815  0.727982  ...  0.663089  0.713342  0.871460 -0.671729   \n",
       "5   1.000000  0.767026  0.794694  ...  0.744591  0.751548  0.932983 -0.732193   \n",
       "6   0.960108  0.800286  0.841047  ...  0.811691  0.764040  0.863768 -0.743578   \n",
       "7   1.000000  0.766987  0.794655  ...  0.744560  0.751517  0.932997 -0.732116   \n",
       "8   0.766987  1.000000  0.987291  ...  0.949029  0.987052  0.736474 -0.847489   \n",
       "9   0.794655  0.987291  1.000000  ...  0.960779  0.962189  0.754502 -0.839121   \n",
       "10  0.751508  0.987052  0.962187  ...  0.893185  1.000000  0.731805 -0.834682   \n",
       "11  0.716437  0.982642  0.974946  ...  0.952376  0.958079  0.675277 -0.830659   \n",
       "12  0.744560  0.949029  0.960779  ...  1.000000  0.893183  0.699307 -0.813218   \n",
       "13  0.751517  0.987052  0.962189  ...  0.893183  1.000000  0.731811 -0.834683   \n",
       "14  0.932997  0.736474  0.754502  ...  0.699307  0.731811  1.000000 -0.730480   \n",
       "15 -0.732116 -0.847489 -0.839121  ... -0.813218 -0.834683 -0.730480  1.000000   \n",
       "16  0.347949  0.477296  0.436988  ...  0.480797  0.459003  0.388264 -0.596396   \n",
       "17  0.012914  0.117853  0.126621  ...  0.128383  0.109677 -0.153101  0.021388   \n",
       "18  0.657350  0.660393  0.659657  ...  0.689943  0.608452  0.563719 -0.669193   \n",
       "19  0.333049  0.465799  0.470249  ...  0.528133  0.408474  0.341056 -0.443519   \n",
       "20  0.449539  0.529502  0.531335  ...  0.560304  0.486232  0.485956 -0.648352   \n",
       "21  0.680109  0.696574  0.700376  ...  0.737500  0.640082  0.580629 -0.694990   \n",
       "\n",
       "          16        17        18        19        20        21  \n",
       "0  -0.378747 -0.407923 -0.403130 -0.233148  0.140885 -0.349624  \n",
       "1  -0.116157 -0.323202 -0.024969  0.042804  0.162772 -0.003285  \n",
       "2  -0.414710 -0.011054 -0.386459 -0.213747 -0.121229 -0.331130  \n",
       "3   0.367026  0.050785  0.701863  0.391307  0.457060  0.730133  \n",
       "4   0.437730  0.100276  0.730724  0.375066  0.340885  0.741016  \n",
       "5   0.348053  0.012951  0.657388  0.333126  0.449567  0.680129  \n",
       "6   0.344410  0.140549  0.722696  0.417039  0.443762  0.775791  \n",
       "7   0.347949  0.012914  0.657350  0.333049  0.449539  0.680109  \n",
       "8   0.477296  0.117853  0.660393  0.465799  0.529502  0.696574  \n",
       "9   0.436988  0.126621  0.659657  0.470249  0.531335  0.700376  \n",
       "10  0.459021  0.109674  0.608449  0.408496  0.486232  0.640070  \n",
       "11  0.434470  0.170021  0.652665  0.473228  0.531603  0.705954  \n",
       "12  0.480797  0.128383  0.689943  0.528133  0.560304  0.737500  \n",
       "13  0.459003  0.109677  0.608452  0.408474  0.486232  0.640082  \n",
       "14  0.388264 -0.153101  0.563719  0.341056  0.485956  0.580629  \n",
       "15 -0.596396  0.021388 -0.669193 -0.443519 -0.648352 -0.694990  \n",
       "16  1.000000 -0.151407  0.593684  0.497886  0.283901  0.549285  \n",
       "17 -0.151407  1.000000  0.160626  0.166917 -0.134903  0.228151  \n",
       "18  0.593684  0.160626  1.000000  0.650382  0.550363  0.961045  \n",
       "19  0.497886  0.166917  0.650382  1.000000  0.552094  0.646559  \n",
       "20  0.283901 -0.134903  0.550363  0.552094  1.000000  0.539296  \n",
       "21  0.549285  0.228151  0.961045  0.646559  0.539296  1.000000  \n",
       "\n",
       "[22 rows x 22 columns]"
      ]
     },
     "execution_count": 19,
     "metadata": {},
     "output_type": "execute_result"
    }
   ],
   "source": [
    "import pandas as pd\n",
    "\n",
    "X_train_df = pd.DataFrame(X_train)\n",
    "X_train_df.corr()\n"
   ]
  },
  {
   "cell_type": "code",
   "execution_count": 20,
   "metadata": {
    "id": "j5m3Kr29Pzfa"
   },
   "outputs": [
    {
     "data": {
      "image/png": "[encoded data removed]",
      "text/plain": [
       "<Figure size 1000x800 with 2 Axes>"
      ]
     },
     "metadata": {},
     "output_type": "display_data"
    }
   ],
   "source": [
    "import pandas as pd\n",
    "\n",
    "# Convert X_train into a DataFrame\n",
    "X_train_df = pd.DataFrame(X_train)\n",
    "\n",
    "# Compute correlation\n",
    "df_corr = X_train_df.corr()\n",
    "\n",
    "# Plot heatmap\n",
    "import seaborn as sns\n",
    "import matplotlib.pyplot as plt\n",
    "\n",
    "plt.figure(figsize=(10, 8))\n",
    "sns.heatmap(df_corr, cmap='viridis', linecolor='k', linewidths=2, annot=True)\n",
    "plt.show()\n"
   ]
  },
  {
   "cell_type": "code",
   "execution_count": 21,
   "metadata": {
    "id": "Uk9gRKrFN0-e"
   },
   "outputs": [],
   "source": [
    " def correlation(dataset, threshold):\n",
    "     col_corr = set()  # Set of all the names of correlated columns\n",
    "     corr_matrix = dataset.corr()\n",
    "     for i in range(len(corr_matrix.columns)):\n",
    "         for j in range(i):\n",
    "             if abs(corr_matrix.iloc[i, j]) > threshold: # we are interested in absolute coeff value\n",
    "                 colname = corr_matrix.columns[i]  # getting the name of column\n",
    "                 col_corr.add(colname)\n",
    "     return col_corr"
   ]
  },
  {
   "cell_type": "code",
   "execution_count": 22,
   "metadata": {
    "id": "z64ONblfQM6R"
   },
   "outputs": [
    {
     "name": "stdout",
     "output_type": "stream",
     "text": [
      "11\n"
     ]
    }
   ],
   "source": [
    "import numpy as np\n",
    "import pandas as pd  # Ensure pandas is imported\n",
    "\n",
    "# Convert X_train to DataFrame (if it's a NumPy array)\n",
    "X_train_df = pd.DataFrame(X_train)\n",
    "\n",
    "# Compute correlation matrix\n",
    "correlation_matrix = X_train_df.corr().abs()\n",
    "\n",
    "# Identify highly correlated features (above 0.9)\n",
    "upper_triangle = correlation_matrix.where(\n",
    "    ~np.tril(np.ones(correlation_matrix.shape), k=0).astype(bool)  # Ignore lower triangle\n",
    ")\n",
    "\n",
    "# Find feature pairs with correlation > 0.9\n",
    "corr_features = [column for column in upper_triangle.columns if any(upper_triangle[column] > 0.9)]\n",
    "\n",
    "# Get unique set of correlated features\n",
    "print(len(set(corr_features)))  \n"
   ]
  },
  {
   "cell_type": "code",
   "execution_count": 23,
   "metadata": {
    "id": "haCX1qKyQNDp"
   },
   "outputs": [
    {
     "data": {
      "text/plain": [
       "[4, 5, 6, 7, 9, 10, 11, 12, 13, 14, 21]"
      ]
     },
     "execution_count": 23,
     "metadata": {},
     "output_type": "execute_result"
    }
   ],
   "source": [
    " corr_features\n"
   ]
  },
  {
   "cell_type": "code",
   "execution_count": 24,
   "metadata": {},
   "outputs": [
    {
     "name": "stdout",
     "output_type": "stream",
     "text": [
      "X_train shape: (156, 22)\n",
      "Expected columns: 23\n"
     ]
    }
   ],
   "source": [
    "print(\"X_train shape:\", X_train.shape)  # Should be (rows, columns)\n",
    "print(\"Expected columns:\", parkinsons_data.drop(columns=['status']).shape[1])  # Check actual column count\n"
   ]
  },
  {
   "cell_type": "code",
   "execution_count": 25,
   "metadata": {
    "id": "-_F6dkfmQNMb"
   },
   "outputs": [],
   "source": [
    "import pandas as pd\n",
    "\n",
    "# Ensure actual_feature_names dynamically matches X_train shape\n",
    "actual_feature_names = parkinsons_data.drop(columns=['status']).columns[:X_train.shape[1]]\n",
    "\n",
    "# Create DataFrames with correct column names\n",
    "X_train_df = pd.DataFrame(X_train, columns=actual_feature_names)\n",
    "X_test_df = pd.DataFrame(X_test, columns=actual_feature_names)\n",
    "\n",
    "# Drop correlated features safely\n",
    "X_train_df = X_train_df.drop(columns=corr_features, axis=1, errors='ignore')  \n",
    "X_test_df = X_test_df.drop(columns=corr_features, axis=1, errors='ignore')  \n"
   ]
  },
  {
   "cell_type": "code",
   "execution_count": 26,
   "metadata": {},
   "outputs": [],
   "source": [
    "import pandas as pd\n",
    "\n",
    "# Ensure column names match the shape of X_train\n",
    "actual_feature_names = parkinsons_data.drop(columns=['status']).columns[:X_train.shape[1]]\n",
    "\n",
    "# Create DataFrames with matching column names\n",
    "X_train_df = pd.DataFrame(X_train, columns=actual_feature_names)\n",
    "X_test_df = pd.DataFrame(X_test, columns=actual_feature_names)\n"
   ]
  },
  {
   "cell_type": "code",
   "execution_count": 27,
   "metadata": {
    "id": "WHwMENpuQNXn"
   },
   "outputs": [
    {
     "name": "stdout",
     "output_type": "stream",
     "text": [
      "Index(['name', 'MDVP:Fo(Hz)', 'MDVP:Fhi(Hz)', 'MDVP:Flo(Hz)', 'MDVP:Jitter(%)',\n",
      "       'MDVP:Jitter(Abs)', 'MDVP:RAP', 'MDVP:PPQ', 'Jitter:DDP',\n",
      "       'MDVP:Shimmer', 'MDVP:Shimmer(dB)', 'Shimmer:APQ3', 'Shimmer:APQ5',\n",
      "       'MDVP:APQ', 'Shimmer:DDA', 'NHR', 'HNR', 'RPDE', 'DFA', 'spread1',\n",
      "       'spread2', 'D2'],\n",
      "      dtype='object')\n"
     ]
    }
   ],
   "source": [
    "# X_train.columns\n",
    "actual_feature_names = parkinsons_data.drop(columns=['status']).columns[:X_train.shape[1]]\n",
    "\n",
    "# Convert to DataFrame with column names\n",
    "X_train_df = pd.DataFrame(X_train, columns=actual_feature_names)\n",
    "\n",
    "# Now, check the column names\n",
    "print(X_train_df.columns)\n"
   ]
  },
  {
   "cell_type": "code",
   "execution_count": 28,
   "metadata": {
    "id": "1_9y2X5CQisk"
   },
   "outputs": [
    {
     "name": "stdout",
     "output_type": "stream",
     "text": [
      "0     156\n",
      "1     156\n",
      "2     156\n",
      "3     156\n",
      "4     156\n",
      "5     156\n",
      "6     156\n",
      "7     156\n",
      "8     156\n",
      "9     156\n",
      "10    156\n",
      "11    156\n",
      "12    156\n",
      "13    156\n",
      "14    156\n",
      "15    156\n",
      "16    156\n",
      "17    156\n",
      "18    156\n",
      "19    156\n",
      "20    156\n",
      "21    156\n",
      "dtype: int64\n"
     ]
    }
   ],
   "source": [
    "# X_train.count()\n",
    "\n",
    "X_train_df = pd.DataFrame(X_train)\n",
    "\n",
    "# Get the count of non-null values in each column\n",
    "print(X_train_df.count())"
   ]
  },
  {
   "cell_type": "markdown",
   "metadata": {
    "id": "QIOAtx35JUMg"
   },
   "source": [
    "Model Training"
   ]
  },
  {
   "cell_type": "markdown",
   "metadata": {
    "id": "fWlsaBNuJV5g"
   },
   "source": [
    "Support Vector Machine Model"
   ]
  },
  {
   "cell_type": "code",
   "execution_count": 29,
   "metadata": {
    "id": "IDInA1u5JCZ9"
   },
   "outputs": [],
   "source": [
    "model = svm.SVC(kernel='linear')"
   ]
  },
  {
   "cell_type": "code",
   "execution_count": 30,
   "metadata": {
    "colab": {
     "base_uri": "https://localhost:8080/",
     "height": 75
    },
    "id": "F01DNpqWKmaW",
    "outputId": "4804eb07-eb31-4388-e30d-15a77125b581"
   },
   "outputs": [
    {
     "data": {
      "text/html": [
       "<style>#sk-container-id-2 {color: black;}#sk-container-id-2 pre{padding: 0;}#sk-container-id-2 div.sk-toggleable {background-color: white;}#sk-container-id-2 label.sk-toggleable__label {cursor: pointer;display: block;width: 100%;margin-bottom: 0;padding: 0.3em;box-sizing: border-box;text-align: center;}#sk-container-id-2 label.sk-toggleable__label-arrow:before {content: \"▸\";float: left;margin-right: 0.25em;color: #696969;}#sk-container-id-2 label.sk-toggleable__label-arrow:hover:before {color: black;}#sk-container-id-2 div.sk-estimator:hover label.sk-toggleable__label-arrow:before {color: black;}#sk-container-id-2 div.sk-toggleable__content {max-height: 0;max-width: 0;overflow: hidden;text-align: left;background-color: #f0f8ff;}#sk-container-id-2 div.sk-toggleable__content pre {margin: 0.2em;color: black;border-radius: 0.25em;background-color: #f0f8ff;}#sk-container-id-2 input.sk-toggleable__control:checked~div.sk-toggleable__content {max-height: 200px;max-width: 100%;overflow: auto;}#sk-container-id-2 input.sk-toggleable__control:checked~label.sk-toggleable__label-arrow:before {content: \"▾\";}#sk-container-id-2 div.sk-estimator input.sk-toggleable__control:checked~label.sk-toggleable__label {background-color: #d4ebff;}#sk-container-id-2 div.sk-label input.sk-toggleable__control:checked~label.sk-toggleable__label {background-color: #d4ebff;}#sk-container-id-2 input.sk-hidden--visually {border: 0;clip: rect(1px 1px 1px 1px);clip: rect(1px, 1px, 1px, 1px);height: 1px;margin: -1px;overflow: hidden;padding: 0;position: absolute;width: 1px;}#sk-container-id-2 div.sk-estimator {font-family: monospace;background-color: #f0f8ff;border: 1px dotted black;border-radius: 0.25em;box-sizing: border-box;margin-bottom: 0.5em;}#sk-container-id-2 div.sk-estimator:hover {background-color: #d4ebff;}#sk-container-id-2 div.sk-parallel-item::after {content: \"\";width: 100%;border-bottom: 1px solid gray;flex-grow: 1;}#sk-container-id-2 div.sk-label:hover label.sk-toggleable__label {background-color: #d4ebff;}#sk-container-id-2 div.sk-serial::before {content: \"\";position: absolute;border-left: 1px solid gray;box-sizing: border-box;top: 0;bottom: 0;left: 50%;z-index: 0;}#sk-container-id-2 div.sk-serial {display: flex;flex-direction: column;align-items: center;background-color: white;padding-right: 0.2em;padding-left: 0.2em;position: relative;}#sk-container-id-2 div.sk-item {position: relative;z-index: 1;}#sk-container-id-2 div.sk-parallel {display: flex;align-items: stretch;justify-content: center;background-color: white;position: relative;}#sk-container-id-2 div.sk-item::before, #sk-container-id-2 div.sk-parallel-item::before {content: \"\";position: absolute;border-left: 1px solid gray;box-sizing: border-box;top: 0;bottom: 0;left: 50%;z-index: -1;}#sk-container-id-2 div.sk-parallel-item {display: flex;flex-direction: column;z-index: 1;position: relative;background-color: white;}#sk-container-id-2 div.sk-parallel-item:first-child::after {align-self: flex-end;width: 50%;}#sk-container-id-2 div.sk-parallel-item:last-child::after {align-self: flex-start;width: 50%;}#sk-container-id-2 div.sk-parallel-item:only-child::after {width: 0;}#sk-container-id-2 div.sk-dashed-wrapped {border: 1px dashed gray;margin: 0 0.4em 0.5em 0.4em;box-sizing: border-box;padding-bottom: 0.4em;background-color: white;}#sk-container-id-2 div.sk-label label {font-family: monospace;font-weight: bold;display: inline-block;line-height: 1.2em;}#sk-container-id-2 div.sk-label-container {text-align: center;}#sk-container-id-2 div.sk-container {/* jupyter's `normalize.less` sets `[hidden] { display: none; }` but bootstrap.min.css set `[hidden] { display: none !important; }` so we also need the `!important` here to be able to override the default hidden behavior on the sphinx rendered scikit-learn.org. See: https://github.com/scikit-learn/scikit-learn/issues/21755 */display: inline-block !important;position: relative;}#sk-container-id-2 div.sk-text-repr-fallback {display: none;}</style><div id=\"sk-container-id-2\" class=\"sk-top-container\"><div class=\"sk-text-repr-fallback\"><pre>SVC(kernel=&#x27;linear&#x27;)</pre><b>In a Jupyter environment, please rerun this cell to show the HTML representation or trust the notebook. <br />On GitHub, the HTML representation is unable to render, please try loading this page with nbviewer.org.</b></div><div class=\"sk-container\" hidden><div class=\"sk-item\"><div class=\"sk-estimator sk-toggleable\"><input class=\"sk-toggleable__control sk-hidden--visually\" id=\"sk-estimator-id-2\" type=\"checkbox\" checked><label for=\"sk-estimator-id-2\" class=\"sk-toggleable__label sk-toggleable__label-arrow\">SVC</label><div class=\"sk-toggleable__content\"><pre>SVC(kernel=&#x27;linear&#x27;)</pre></div></div></div></div></div>"
      ],
      "text/plain": [
       "SVC(kernel='linear')"
      ]
     },
     "execution_count": 30,
     "metadata": {},
     "output_type": "execute_result"
    }
   ],
   "source": [
    "# training the SVM model with training data\n",
    "model.fit(X_train, Y_train)"
   ]
  },
  {
   "cell_type": "markdown",
   "metadata": {
    "id": "1z_-nZfuLJrH"
   },
   "source": [
    "Model Evaluation"
   ]
  },
  {
   "cell_type": "markdown",
   "metadata": {
    "id": "Rj3XAnF8LMF4"
   },
   "source": [
    "Accuracy Score"
   ]
  },
  {
   "cell_type": "code",
   "execution_count": 31,
   "metadata": {
    "id": "5LwxNgnqK1Za"
   },
   "outputs": [],
   "source": [
    "# accuracy score on training data\n",
    "X_train_prediction = model.predict(X_train)\n",
    "training_data_accuracy = accuracy_score(Y_train, X_train_prediction)"
   ]
  },
  {
   "cell_type": "code",
   "execution_count": 32,
   "metadata": {
    "colab": {
     "base_uri": "https://localhost:8080/"
    },
    "id": "-dS9tcGdLm41",
    "outputId": "5ea3f807-fbe8-4062-bf92-044feaac080a"
   },
   "outputs": [
    {
     "name": "stdout",
     "output_type": "stream",
     "text": [
      "Accuracy score of training data :  0.8846153846153846\n"
     ]
    }
   ],
   "source": [
    "print('Accuracy score of training data : ', training_data_accuracy)"
   ]
  },
  {
   "cell_type": "code",
   "execution_count": 33,
   "metadata": {
    "id": "rNUO2uHmLtjY"
   },
   "outputs": [],
   "source": [
    "# accuracy score on training data\n",
    "X_test_prediction = model.predict(X_test)\n",
    "test_data_accuracy = accuracy_score(Y_test, X_test_prediction)"
   ]
  },
  {
   "cell_type": "code",
   "execution_count": 34,
   "metadata": {
    "colab": {
     "base_uri": "https://localhost:8080/"
    },
    "id": "BsF3UnQ2L_aR",
    "outputId": "8174ef31-aa31-4323-cbbf-34864f5080ed"
   },
   "outputs": [
    {
     "name": "stdout",
     "output_type": "stream",
     "text": [
      "Accuracy score of test data :  0.8717948717948718\n"
     ]
    }
   ],
   "source": [
    "print('Accuracy score of test data : ', test_data_accuracy)"
   ]
  },
  {
   "cell_type": "markdown",
   "metadata": {
    "id": "QlR4JG4YMfOR"
   },
   "source": [
    "Building a Predictive System"
   ]
  },
  {
   "cell_type": "code",
   "execution_count": 41,
   "metadata": {
    "colab": {
     "base_uri": "https://localhost:8080/"
    },
    "id": "w0FjSoO1MGBU",
    "outputId": "596b6b9e-63ba-43db-ba9e-ef65671a7d0d"
   },
   "outputs": [
    {
     "name": "stdout",
     "output_type": "stream",
     "text": [
      "[0]\n",
      "The Person does not have Parkinsons Disease\n"
     ]
    }
   ],
   "source": [
    "input_data = (119.992,157.302,74.997,0.00784,0.00007,0.0037,0.00554,0.01109,0.04374,0.426,0.02182,0.0313,0.02971,0.06545,0.02211,21.033,0.414783,0.815285,-4.813031,0.266482,2.301442,0.284654)\n",
    "\n",
    "# changing input data to a numpy array\n",
    "input_data_as_numpy_array = np.asarray(input_data)\n",
    "\n",
    "# reshape the numpy array\n",
    "input_data_reshaped = input_data_as_numpy_array.reshape(1,-1)\n",
    "\n",
    "# # standardize the data\n",
    "# std_data = scaler.transform(input_data_reshaped)\n",
    "\n",
    "prediction = model.predict(input_data_reshaped)\n",
    "print(prediction)\n",
    "\n",
    "\n",
    "if (prediction[0] == 0):\n",
    "  print(\"The Person does not have Parkinsons Disease\")\n",
    "\n",
    "else:\n",
    "  print(\"The Person has Parkinsons\")\n"
   ]
  },
  {
   "cell_type": "markdown",
   "metadata": {
    "id": "X21wDPV5MdF1"
   },
   "source": [
    "Saving the trained model"
   ]
  },
  {
   "cell_type": "code",
   "execution_count": 36,
   "metadata": {
    "id": "y1jGO7lsMiU6"
   },
   "outputs": [],
   "source": [
    "import pickle"
   ]
  },
  {
   "cell_type": "code",
   "execution_count": 37,
   "metadata": {
    "id": "jX2OIcpUMkcv"
   },
   "outputs": [],
   "source": [
    "filename = 'parkinsons_model.sav'\n",
    "pickle.dump(model, open(filename, 'wb'))"
   ]
  },
  {
   "cell_type": "code",
   "execution_count": 38,
   "metadata": {
    "id": "d62KlGbdMudt"
   },
   "outputs": [],
   "source": [
    "# loading the saved model\n",
    "loaded_model = pickle.load(open('parkinsons_model.sav', 'rb'))"
   ]
  },
  {
   "cell_type": "code",
   "execution_count": 42,
   "metadata": {
    "colab": {
     "base_uri": "https://localhost:8080/"
    },
    "id": "-d6kT7-zMwp7",
    "outputId": "93ec4ef5-7d1a-4da9-db4d-449d07b67da2"
   },
   "outputs": [
    {
     "name": "stdout",
     "output_type": "stream",
     "text": [
      "name\n",
      "MDVP:Fo(Hz)\n",
      "MDVP:Fhi(Hz)\n",
      "MDVP:Flo(Hz)\n",
      "MDVP:Jitter(%)\n",
      "MDVP:Jitter(Abs)\n",
      "MDVP:RAP\n",
      "MDVP:PPQ\n",
      "Jitter:DDP\n",
      "MDVP:Shimmer\n",
      "MDVP:Shimmer(dB)\n",
      "Shimmer:APQ3\n",
      "Shimmer:APQ5\n",
      "MDVP:APQ\n",
      "Shimmer:DDA\n",
      "NHR\n",
      "HNR\n",
      "RPDE\n",
      "DFA\n",
      "spread1\n",
      "spread2\n",
      "D2\n"
     ]
    }
   ],
   "source": [
    "# Convert NumPy array to DataFrame\n",
    "X_train_df = pd.DataFrame(X_train, columns=actual_feature_names)\n",
    "\n",
    "# Print column names\n",
    "for column in X_train_df.columns:\n",
    "    print(column)"
   ]
  },
  {
   "cell_type": "code",
   "execution_count": 43,
   "metadata": {
    "colab": {
     "base_uri": "https://localhost:8080/"
    },
    "id": "6i-A-uAoTo5S",
    "outputId": "40268db5-69ef-485c-d431-e055590a7605"
   },
   "outputs": [
    {
     "name": "stdout",
     "output_type": "stream",
     "text": [
      "1.3.0\n"
     ]
    }
   ],
   "source": [
    "import sklearn\n",
    "print(sklearn.__version__)"
   ]
  },
  {
   "cell_type": "code",
   "execution_count": null,
   "metadata": {
    "id": "eLO-cXype8Mt"
   },
   "outputs": [],
   "source": []
  }
 ],
 "metadata": {
  "colab": {
   "include_colab_link": true,
   "provenance": []
  },
  "kernelspec": {
   "display_name": "Python 3 (ipykernel)",
   "language": "python",
   "name": "python3"
  },
  "language_info": {
   "codemirror_mode": {
    "name": "ipython",
    "version": 3
   },
   "file_extension": ".py",
   "mimetype": "text/x-python",
   "name": "python",
   "nbconvert_exporter": "python",
   "pygments_lexer": "ipython3",
   "version": "3.11.5"
  }
 },
 "nbformat": 4,
 "nbformat_minor": 4
}
